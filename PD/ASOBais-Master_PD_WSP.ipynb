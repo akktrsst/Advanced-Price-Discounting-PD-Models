{
 "cells": [
  {
   "cell_type": "markdown",
   "id": "20c6246a-9d8d-4ad8-a94b-7a2ca5b856dd",
   "metadata": {},
   "source": [
    "#### East ASO Bias Analysis"
   ]
  },
  {
   "cell_type": "code",
   "execution_count": 1,
   "id": "1ac8d901-4f48-4616-96af-7f68fffeb399",
   "metadata": {
    "tags": []
   },
   "outputs": [
    {
     "name": "stderr",
     "output_type": "stream",
     "text": [
      "C:\\ProgramData\\Anaconda3\\envs\\API\\lib\\site-packages\\numpy\\_distributor_init.py:30: UserWarning: loaded more than 1 DLL from .libs:\n",
      "C:\\ProgramData\\Anaconda3\\envs\\API\\lib\\site-packages\\numpy\\.libs\\libopenblas.el2c6ple4zyw3eceviv3oxxgrn2nrfm2.gfortran-win_amd64.dll\n",
      "C:\\ProgramData\\Anaconda3\\envs\\API\\lib\\site-packages\\numpy\\.libs\\libopenblas.fb5ae2tyxyh2ijrdkgdgq3xbklktf43h.gfortran-win_amd64.dll\n",
      "C:\\ProgramData\\Anaconda3\\envs\\API\\lib\\site-packages\\numpy\\.libs\\libopenblas64__v0.3.23-gcc_10_3_0.dll\n",
      "  warnings.warn(\"loaded more than 1 DLL from .libs:\"\n"
     ]
    },
    {
     "name": "stdout",
     "output_type": "stream",
     "text": [
      "Libraries imported\n"
     ]
    }
   ],
   "source": [
    "import numpy as np\n",
    "from datetime import datetime\n",
    "import pandas as pd\n",
    "import seaborn as sns\n",
    "import plotly.express as px\n",
    "import matplotlib.pyplot as plt\n",
    "import pandas as pd\n",
    "import plotly.graph_objects as go\n",
    "import plotly.subplots as sp\n",
    "import psycopg2\n",
    "import warnings\n",
    "warnings.filterwarnings('ignore')\n",
    "print('Libraries imported')"
   ]
  },
  {
   "cell_type": "code",
   "execution_count": 2,
   "id": "135e4dc7-a77b-421c-9328-fe3f89858e00",
   "metadata": {},
   "outputs": [],
   "source": [
    "path1='D:/KIE Square Analytics Templates/PD'\n",
    "disc=pd.read_excel(path1+'/'+'Sample_Discount.xlsx')"
   ]
  },
  {
   "cell_type": "code",
   "execution_count": 3,
   "id": "0e145fdf-4ec9-4baa-8a62-910eee4754cc",
   "metadata": {
    "tags": []
   },
   "outputs": [
    {
     "data": {
      "text/plain": [
       "(7000, 8)"
      ]
     },
     "execution_count": 3,
     "metadata": {},
     "output_type": "execute_result"
    }
   ],
   "source": [
    "disc.shape"
   ]
  },
  {
   "cell_type": "code",
   "execution_count": 4,
   "id": "6d04f187-10b4-4d42-9e46-8ceaa5c8769b",
   "metadata": {
    "tags": []
   },
   "outputs": [],
   "source": [
    "disc.drop(columns={'Unnamed: 0'}, axis=1, inplace=True)"
   ]
  },
  {
   "cell_type": "code",
   "execution_count": 5,
   "id": "9aaa5dc5-15c3-4e98-a3c7-b0c57f04b89d",
   "metadata": {
    "tags": []
   },
   "outputs": [
    {
     "data": {
      "text/html": [
       "<div>\n",
       "<style scoped>\n",
       "    .dataframe tbody tr th:only-of-type {\n",
       "        vertical-align: middle;\n",
       "    }\n",
       "\n",
       "    .dataframe tbody tr th {\n",
       "        vertical-align: top;\n",
       "    }\n",
       "\n",
       "    .dataframe thead th {\n",
       "        text-align: right;\n",
       "    }\n",
       "</style>\n",
       "<table border=\"1\" class=\"dataframe\">\n",
       "  <thead>\n",
       "    <tr style=\"text-align: right;\">\n",
       "      <th></th>\n",
       "      <th>Unnamed: 0.1</th>\n",
       "      <th>Sales_Region</th>\n",
       "      <th>Dealer_ID</th>\n",
       "      <th>Month</th>\n",
       "      <th>Discount</th>\n",
       "      <th>Total_Discount</th>\n",
       "      <th>Price_Support</th>\n",
       "    </tr>\n",
       "  </thead>\n",
       "  <tbody>\n",
       "    <tr>\n",
       "      <th>0</th>\n",
       "      <td>3384</td>\n",
       "      <td>EAST</td>\n",
       "      <td>7000607</td>\n",
       "      <td>10'22</td>\n",
       "      <td>23563.750000</td>\n",
       "      <td>23563.750000</td>\n",
       "      <td>0.00</td>\n",
       "    </tr>\n",
       "    <tr>\n",
       "      <th>1</th>\n",
       "      <td>13938</td>\n",
       "      <td>EAST</td>\n",
       "      <td>7011361</td>\n",
       "      <td>08'22</td>\n",
       "      <td>294141.625000</td>\n",
       "      <td>419579.065000</td>\n",
       "      <td>125437.44</td>\n",
       "    </tr>\n",
       "    <tr>\n",
       "      <th>2</th>\n",
       "      <td>21845</td>\n",
       "      <td>EAST</td>\n",
       "      <td>7024545</td>\n",
       "      <td>09'22</td>\n",
       "      <td>881.770833</td>\n",
       "      <td>881.770833</td>\n",
       "      <td>0.00</td>\n",
       "    </tr>\n",
       "    <tr>\n",
       "      <th>3</th>\n",
       "      <td>43336</td>\n",
       "      <td>EAST</td>\n",
       "      <td>7036186</td>\n",
       "      <td>07'22</td>\n",
       "      <td>7673.645833</td>\n",
       "      <td>14392.365833</td>\n",
       "      <td>6718.72</td>\n",
       "    </tr>\n",
       "    <tr>\n",
       "      <th>4</th>\n",
       "      <td>36171</td>\n",
       "      <td>EAST</td>\n",
       "      <td>7033203</td>\n",
       "      <td>08'22</td>\n",
       "      <td>20609.166667</td>\n",
       "      <td>44827.906667</td>\n",
       "      <td>24218.74</td>\n",
       "    </tr>\n",
       "  </tbody>\n",
       "</table>\n",
       "</div>"
      ],
      "text/plain": [
       "   Unnamed: 0.1 Sales_Region  Dealer_ID  Month       Discount  Total_Discount  \\\n",
       "0          3384         EAST    7000607  10'22   23563.750000    23563.750000   \n",
       "1         13938         EAST    7011361  08'22  294141.625000   419579.065000   \n",
       "2         21845         EAST    7024545  09'22     881.770833      881.770833   \n",
       "3         43336         EAST    7036186  07'22    7673.645833    14392.365833   \n",
       "4         36171         EAST    7033203  08'22   20609.166667    44827.906667   \n",
       "\n",
       "   Price_Support  \n",
       "0           0.00  \n",
       "1      125437.44  \n",
       "2           0.00  \n",
       "3        6718.72  \n",
       "4       24218.74  "
      ]
     },
     "execution_count": 5,
     "metadata": {},
     "output_type": "execute_result"
    }
   ],
   "source": [
    "disc.head()"
   ]
  },
  {
   "cell_type": "markdown",
   "id": "0cc52331-2305-484e-82e0-5c0d730ff976",
   "metadata": {},
   "source": [
    "#### Discount"
   ]
  },
  {
   "cell_type": "code",
   "execution_count": 6,
   "id": "a3365a73-404d-4fe0-a001-cbeebb272a92",
   "metadata": {
    "tags": []
   },
   "outputs": [
    {
     "data": {
      "text/html": [
       "<div>\n",
       "<style scoped>\n",
       "    .dataframe tbody tr th:only-of-type {\n",
       "        vertical-align: middle;\n",
       "    }\n",
       "\n",
       "    .dataframe tbody tr th {\n",
       "        vertical-align: top;\n",
       "    }\n",
       "\n",
       "    .dataframe thead th {\n",
       "        text-align: right;\n",
       "    }\n",
       "</style>\n",
       "<table border=\"1\" class=\"dataframe\">\n",
       "  <thead>\n",
       "    <tr style=\"text-align: right;\">\n",
       "      <th></th>\n",
       "      <th>Unnamed: 0.1</th>\n",
       "      <th>Sales_Region</th>\n",
       "      <th>Dealer_ID</th>\n",
       "      <th>Month</th>\n",
       "      <th>Discount</th>\n",
       "      <th>Total_Discount</th>\n",
       "      <th>Price_Support</th>\n",
       "    </tr>\n",
       "  </thead>\n",
       "  <tbody>\n",
       "    <tr>\n",
       "      <th>0</th>\n",
       "      <td>3384</td>\n",
       "      <td>EAST</td>\n",
       "      <td>7000607</td>\n",
       "      <td>10'22</td>\n",
       "      <td>23563.750000</td>\n",
       "      <td>23563.750000</td>\n",
       "      <td>0.00</td>\n",
       "    </tr>\n",
       "    <tr>\n",
       "      <th>1</th>\n",
       "      <td>13938</td>\n",
       "      <td>EAST</td>\n",
       "      <td>7011361</td>\n",
       "      <td>08'22</td>\n",
       "      <td>294141.625000</td>\n",
       "      <td>419579.065000</td>\n",
       "      <td>125437.44</td>\n",
       "    </tr>\n",
       "    <tr>\n",
       "      <th>2</th>\n",
       "      <td>21845</td>\n",
       "      <td>EAST</td>\n",
       "      <td>7024545</td>\n",
       "      <td>09'22</td>\n",
       "      <td>881.770833</td>\n",
       "      <td>881.770833</td>\n",
       "      <td>0.00</td>\n",
       "    </tr>\n",
       "    <tr>\n",
       "      <th>3</th>\n",
       "      <td>43336</td>\n",
       "      <td>EAST</td>\n",
       "      <td>7036186</td>\n",
       "      <td>07'22</td>\n",
       "      <td>7673.645833</td>\n",
       "      <td>14392.365833</td>\n",
       "      <td>6718.72</td>\n",
       "    </tr>\n",
       "    <tr>\n",
       "      <th>4</th>\n",
       "      <td>36171</td>\n",
       "      <td>EAST</td>\n",
       "      <td>7033203</td>\n",
       "      <td>08'22</td>\n",
       "      <td>20609.166667</td>\n",
       "      <td>44827.906667</td>\n",
       "      <td>24218.74</td>\n",
       "    </tr>\n",
       "  </tbody>\n",
       "</table>\n",
       "</div>"
      ],
      "text/plain": [
       "   Unnamed: 0.1 Sales_Region  Dealer_ID  Month       Discount  Total_Discount  \\\n",
       "0          3384         EAST    7000607  10'22   23563.750000    23563.750000   \n",
       "1         13938         EAST    7011361  08'22  294141.625000   419579.065000   \n",
       "2         21845         EAST    7024545  09'22     881.770833      881.770833   \n",
       "3         43336         EAST    7036186  07'22    7673.645833    14392.365833   \n",
       "4         36171         EAST    7033203  08'22   20609.166667    44827.906667   \n",
       "\n",
       "   Price_Support  \n",
       "0           0.00  \n",
       "1      125437.44  \n",
       "2           0.00  \n",
       "3        6718.72  \n",
       "4       24218.74  "
      ]
     },
     "execution_count": 6,
     "metadata": {},
     "output_type": "execute_result"
    }
   ],
   "source": [
    "df=disc.copy()\n",
    "df.head()"
   ]
  },
  {
   "cell_type": "code",
   "execution_count": 7,
   "id": "e8f3befa-60a0-41de-95d7-dc45511b33d2",
   "metadata": {
    "tags": []
   },
   "outputs": [
    {
     "data": {
      "text/plain": [
       "Index(['Unnamed: 0.1', 'Sales_Region', 'Dealer_ID', 'Month', 'Discount',\n",
       "       'Total_Discount', 'Price_Support'],\n",
       "      dtype='object')"
      ]
     },
     "execution_count": 7,
     "metadata": {},
     "output_type": "execute_result"
    }
   ],
   "source": [
    "df.columns"
   ]
  },
  {
   "cell_type": "code",
   "execution_count": 8,
   "id": "5f3e6d0c-3166-4f3c-8e20-d9c17aead16a",
   "metadata": {
    "tags": []
   },
   "outputs": [
    {
     "data": {
      "text/plain": [
       "array([\"10'22\", \"08'22\", \"09'22\", \"07'22\", \"05'22\", \"02'23\", \"03'23\",\n",
       "       \"12'22\", \"11'22\", \"01'23\", \"06'22\", \"04'22\", \"03'22\", \"02'22\"],\n",
       "      dtype=object)"
      ]
     },
     "execution_count": 8,
     "metadata": {},
     "output_type": "execute_result"
    }
   ],
   "source": [
    "df['Month'].unique()"
   ]
  },
  {
   "cell_type": "code",
   "execution_count": 9,
   "id": "c63270b0-56e5-428a-b864-c2ff0aa78113",
   "metadata": {
    "tags": []
   },
   "outputs": [
    {
     "data": {
      "text/plain": [
       "array(['EAST'], dtype=object)"
      ]
     },
     "execution_count": 9,
     "metadata": {},
     "output_type": "execute_result"
    }
   ],
   "source": [
    "df['Sales_Region'].unique()"
   ]
  },
  {
   "cell_type": "code",
   "execution_count": 10,
   "id": "c3957ebf-45d7-4eac-ba63-2dabc9f2d125",
   "metadata": {
    "tags": []
   },
   "outputs": [],
   "source": [
    "# df=df[df['Region']=='EAST'].copy()"
   ]
  },
  {
   "cell_type": "code",
   "execution_count": 11,
   "id": "ac64b64a-f022-483e-8dd9-eff9e812a83e",
   "metadata": {
    "tags": []
   },
   "outputs": [
    {
     "name": "stdout",
     "output_type": "stream",
     "text": [
      "<class 'pandas.core.frame.DataFrame'>\n",
      "RangeIndex: 7000 entries, 0 to 6999\n",
      "Data columns (total 7 columns):\n",
      " #   Column          Non-Null Count  Dtype  \n",
      "---  ------          --------------  -----  \n",
      " 0   Unnamed: 0.1    7000 non-null   int64  \n",
      " 1   Sales_Region    7000 non-null   object \n",
      " 2   Dealer_ID       7000 non-null   int64  \n",
      " 3   Month           7000 non-null   object \n",
      " 4   Discount        7000 non-null   float64\n",
      " 5   Total_Discount  7000 non-null   float64\n",
      " 6   Price_Support   7000 non-null   float64\n",
      "dtypes: float64(3), int64(2), object(2)\n",
      "memory usage: 382.9+ KB\n"
     ]
    }
   ],
   "source": [
    "df.info()"
   ]
  },
  {
   "cell_type": "code",
   "execution_count": 12,
   "id": "a904f0a9-e2c2-4d3f-b3c8-f457b1133c24",
   "metadata": {
    "tags": []
   },
   "outputs": [],
   "source": [
    "# df['District'] = df['District'].str.upper()"
   ]
  },
  {
   "cell_type": "code",
   "execution_count": 13,
   "id": "9ff1b2fd-31f5-49a3-8eb9-d0a976581cc0",
   "metadata": {
    "tags": []
   },
   "outputs": [
    {
     "data": {
      "text/html": [
       "<div>\n",
       "<style scoped>\n",
       "    .dataframe tbody tr th:only-of-type {\n",
       "        vertical-align: middle;\n",
       "    }\n",
       "\n",
       "    .dataframe tbody tr th {\n",
       "        vertical-align: top;\n",
       "    }\n",
       "\n",
       "    .dataframe thead th {\n",
       "        text-align: right;\n",
       "    }\n",
       "</style>\n",
       "<table border=\"1\" class=\"dataframe\">\n",
       "  <thead>\n",
       "    <tr style=\"text-align: right;\">\n",
       "      <th></th>\n",
       "      <th>Unnamed: 0.1</th>\n",
       "      <th>Sales_Region</th>\n",
       "      <th>Dealer_ID</th>\n",
       "      <th>Month</th>\n",
       "      <th>Discount</th>\n",
       "      <th>Total_Discount</th>\n",
       "      <th>Price_Support</th>\n",
       "    </tr>\n",
       "  </thead>\n",
       "  <tbody>\n",
       "  </tbody>\n",
       "</table>\n",
       "</div>"
      ],
      "text/plain": [
       "Empty DataFrame\n",
       "Columns: [Unnamed: 0.1, Sales_Region, Dealer_ID, Month, Discount, Total_Discount, Price_Support]\n",
       "Index: []"
      ]
     },
     "execution_count": 13,
     "metadata": {},
     "output_type": "execute_result"
    }
   ],
   "source": [
    "df[df.duplicated()]"
   ]
  },
  {
   "cell_type": "code",
   "execution_count": 14,
   "id": "fe1ed70f-f49d-4a66-98f7-8d0831bd3946",
   "metadata": {
    "tags": []
   },
   "outputs": [
    {
     "data": {
      "text/html": [
       "<div>\n",
       "<style scoped>\n",
       "    .dataframe tbody tr th:only-of-type {\n",
       "        vertical-align: middle;\n",
       "    }\n",
       "\n",
       "    .dataframe tbody tr th {\n",
       "        vertical-align: top;\n",
       "    }\n",
       "\n",
       "    .dataframe thead th {\n",
       "        text-align: right;\n",
       "    }\n",
       "</style>\n",
       "<table border=\"1\" class=\"dataframe\">\n",
       "  <thead>\n",
       "    <tr style=\"text-align: right;\">\n",
       "      <th></th>\n",
       "      <th>Unnamed: 0.1</th>\n",
       "      <th>Sales_Region</th>\n",
       "      <th>Dealer_ID</th>\n",
       "      <th>Month</th>\n",
       "      <th>Discount</th>\n",
       "      <th>Total_Discount</th>\n",
       "      <th>Price_Support</th>\n",
       "    </tr>\n",
       "  </thead>\n",
       "  <tbody>\n",
       "  </tbody>\n",
       "</table>\n",
       "</div>"
      ],
      "text/plain": [
       "Empty DataFrame\n",
       "Columns: [Unnamed: 0.1, Sales_Region, Dealer_ID, Month, Discount, Total_Discount, Price_Support]\n",
       "Index: []"
      ]
     },
     "execution_count": 14,
     "metadata": {},
     "output_type": "execute_result"
    }
   ],
   "source": [
    "subset_columns = ['Sales_Region','Dealer_ID','Month']\n",
    "duplicates = df.duplicated(subset=subset_columns, keep=False)\n",
    "df[duplicates]"
   ]
  },
  {
   "cell_type": "markdown",
   "id": "b9679b3f-2453-4847-bd8c-b72c6d51771c",
   "metadata": {},
   "source": [
    "#### PD WSP File and PJP File"
   ]
  },
  {
   "cell_type": "code",
   "execution_count": 15,
   "id": "b3b70ea1-955c-4498-aecf-d53617f21d8a",
   "metadata": {
    "tags": []
   },
   "outputs": [],
   "source": [
    "df1,df2=pd.read_excel(path1+'/'+'Master_PD_WSP_Sample.xlsx'), pd.read_excel(path1+'/'+'PJP_ASO_Sample.xlsx')"
   ]
  },
  {
   "cell_type": "code",
   "execution_count": 16,
   "id": "9c6d9cfb-6cac-47d1-9757-9f19577232fa",
   "metadata": {
    "tags": []
   },
   "outputs": [],
   "source": [
    "east_pd=df1.copy()\n",
    "pjp_aso=df2.copy()"
   ]
  },
  {
   "cell_type": "markdown",
   "id": "8bb2acde-7814-4259-a6f2-14bca201f020",
   "metadata": {},
   "source": [
    "##### East PD WSP"
   ]
  },
  {
   "cell_type": "code",
   "execution_count": 17,
   "id": "bae85272-99da-4b2a-b1b2-0d29f03a917a",
   "metadata": {
    "tags": []
   },
   "outputs": [
    {
     "data": {
      "text/plain": [
       "Index(['Unnamed: 0', 'state', 'sh_location', 'district', 'date', 'gross_price',\n",
       "       'net_price', 'dal_wsp_manual', 'ut_wsp_manual', 'dal_wsp_qlik',\n",
       "       'ut_wsp_qlik', 'computed_pd', 'recommended_pd', 'cdqd',\n",
       "       'discount_factor', 'cdqddiscount_factor'],\n",
       "      dtype='object')"
      ]
     },
     "execution_count": 17,
     "metadata": {},
     "output_type": "execute_result"
    }
   ],
   "source": [
    "east_pd.columns"
   ]
  },
  {
   "cell_type": "code",
   "execution_count": 18,
   "id": "f4cf69d3-6cf0-4955-873f-4c4e2df686ee",
   "metadata": {
    "tags": []
   },
   "outputs": [],
   "source": [
    "sel_cols= ['state','district', 'date',\n",
    "       'gross_price','recommended_pd','dal_wsp_manual','ut_wsp_manual', 'cdqd', 'discount_factor', 'cdqddiscount_factor']\n",
    "east_pd1=east_pd[sel_cols].copy()\n",
    "east_pd1.rename(columns={'state':'State','district':'District','date':'Date',\n",
    "                        'gross_price':'Bill_Price','recommended_pd':'Total_PD',\n",
    "                        'dal_wsp_manual':'Dist_WSP','ut_wsp_manual':'C-Dist_WSP',\n",
    "                        'cdqd':'CD+QD','discount_factor':'DF','cdqddiscount_factor': 'CD+QD+DF'}, inplace=True)"
   ]
  },
  {
   "cell_type": "code",
   "execution_count": 19,
   "id": "38e58aec-4228-4590-b752-9a90f8333078",
   "metadata": {
    "tags": []
   },
   "outputs": [
    {
     "data": {
      "text/html": [
       "<div>\n",
       "<style scoped>\n",
       "    .dataframe tbody tr th:only-of-type {\n",
       "        vertical-align: middle;\n",
       "    }\n",
       "\n",
       "    .dataframe tbody tr th {\n",
       "        vertical-align: top;\n",
       "    }\n",
       "\n",
       "    .dataframe thead th {\n",
       "        text-align: right;\n",
       "    }\n",
       "</style>\n",
       "<table border=\"1\" class=\"dataframe\">\n",
       "  <thead>\n",
       "    <tr style=\"text-align: right;\">\n",
       "      <th></th>\n",
       "      <th>State</th>\n",
       "      <th>District</th>\n",
       "      <th>Date</th>\n",
       "      <th>Bill_Price</th>\n",
       "      <th>Total_PD</th>\n",
       "      <th>Dist_WSP</th>\n",
       "      <th>C-Dist_WSP</th>\n",
       "      <th>CD+QD</th>\n",
       "      <th>DF</th>\n",
       "      <th>CD+QD+DF</th>\n",
       "    </tr>\n",
       "  </thead>\n",
       "  <tbody>\n",
       "  </tbody>\n",
       "</table>\n",
       "</div>"
      ],
      "text/plain": [
       "Empty DataFrame\n",
       "Columns: [State, District, Date, Bill_Price, Total_PD, Dist_WSP, C-Dist_WSP, CD+QD, DF, CD+QD+DF]\n",
       "Index: []"
      ]
     },
     "execution_count": 19,
     "metadata": {},
     "output_type": "execute_result"
    }
   ],
   "source": [
    "east_pd1[east_pd1['Dist_WSP']=='NaN']"
   ]
  },
  {
   "cell_type": "code",
   "execution_count": 20,
   "id": "7d08a1e9-fd8c-4e5b-a31d-c3d7f7afd49c",
   "metadata": {
    "tags": []
   },
   "outputs": [
    {
     "data": {
      "text/plain": [
       "array(['345', '370-375', '315', '360-365', '310', '350', '365-370', '380',\n",
       "       '385', '355', '285', '340', '365', '377.5', '330', '335-340',\n",
       "       '360', '375', '335', '355-360', '325', '320', '320-325', '375-380',\n",
       "       '391', '390', '358', '353', '374', '370', '376.25',\n",
       "       '386.94444444444446', '322.5', '318', '350-355', '280', '340-345',\n",
       "       '290', '395', '372', '312', '330-335', '305', '357', '300', '327',\n",
       "       '380-385', '331.1111111111111', '362', '325-330', '348',\n",
       "       '396.6666666666667', '388', '316', '378', '385-390', '365.625',\n",
       "       '364.64285714285717', '345-350', '295', '383.3333333333333',\n",
       "       '362.5', '336', '368', '363', '328', '303', '351',\n",
       "       '374.2857142857143', '367', '352', '339.375', '354',\n",
       "       '343.0769230769231', '315-320', '329', '317', '322', '332', '323',\n",
       "       '307', '359', '364', '338', '360.8333333333333', '368.4375',\n",
       "       '360.625', '391.07142857142856', '343', '313', '379', '377',\n",
       "       '367.5', '373.2352941176471', '371.6666666666667',\n",
       "       '392.14285714285717', '379.375', '345.4166666666667',\n",
       "       '348.3333333333333', '356', '397', '395.45454545454544', '350.625',\n",
       "       '354.1666666666667', '395.625', '370.8333333333333',\n",
       "       '368.3333333333333', '370.35714285714283', '344', '387.5',\n",
       "       '388.57142857142856', '371.9230769230769', '348.75',\n",
       "       '336.3636363636364', '396.42857142857144', '389.44444444444446',\n",
       "       '331', '398', '331.6666666666667', '370.90909090909093', '359.375',\n",
       "       '317.5', '342', '392.85714285714283', '329.6666666666667',\n",
       "       '351.6666666666667', '393.75', '373', '341.6666666666667',\n",
       "       '377.14285714285717', '396.25', '346', '389', nan], dtype=object)"
      ]
     },
     "execution_count": 20,
     "metadata": {},
     "output_type": "execute_result"
    }
   ],
   "source": [
    "east_pd1['Dist_WSP'].unique()"
   ]
  },
  {
   "cell_type": "code",
   "execution_count": 21,
   "id": "b11ec342-0030-4ee1-b2a4-1f52115d0147",
   "metadata": {
    "tags": []
   },
   "outputs": [],
   "source": [
    "east_pd1= east_pd1[east_pd1['Dist_WSP']!='NaN'].copy()\n",
    "east_pd1.loc[east_pd1['C-Dist_WSP'] == '370-75', 'C-Dist_WSP'] = '370-375'\n",
    "east_pd1.drop_duplicates(inplace=True)"
   ]
  },
  {
   "cell_type": "code",
   "execution_count": 22,
   "id": "402ccb15-599a-46ba-8bc4-e5c8f6fa75e0",
   "metadata": {
    "tags": []
   },
   "outputs": [],
   "source": [
    "def convert_to_integer(value):\n",
    "    if isinstance(value, str) and '-' in value:\n",
    "        # If the value is a string and '-' is present, split the value and check if it has a valid format\n",
    "        parts = value.split('-')\n",
    "        if len(parts) == 2 and parts[0].isdigit() and parts[1].isdigit():\n",
    "            start, end = int(parts[0]), int(parts[1])\n",
    "            result = float((start + end) / 2)\n",
    "            return round(result,2)\n",
    "    # If the value is either an integer or a string without '-', convert it directly into an integer\n",
    "    try:\n",
    "        result = float(value)\n",
    "        return round(result, 2)\n",
    "    except ValueError:\n",
    "        return None\n",
    "\n",
    "east_pd1['Dist_WSP'] = east_pd1['Dist_WSP'].apply(convert_to_integer)\n",
    "east_pd1['C-Dist_WSP'] = east_pd1['C-Dist_WSP'].apply(convert_to_integer)"
   ]
  },
  {
   "cell_type": "code",
   "execution_count": 23,
   "id": "f7b65be2-9997-4da0-83ad-b5440f1a9f90",
   "metadata": {
    "tags": []
   },
   "outputs": [
    {
     "data": {
      "text/html": [
       "<div>\n",
       "<style scoped>\n",
       "    .dataframe tbody tr th:only-of-type {\n",
       "        vertical-align: middle;\n",
       "    }\n",
       "\n",
       "    .dataframe tbody tr th {\n",
       "        vertical-align: top;\n",
       "    }\n",
       "\n",
       "    .dataframe thead th {\n",
       "        text-align: right;\n",
       "    }\n",
       "</style>\n",
       "<table border=\"1\" class=\"dataframe\">\n",
       "  <thead>\n",
       "    <tr style=\"text-align: right;\">\n",
       "      <th></th>\n",
       "      <th>State</th>\n",
       "      <th>District</th>\n",
       "      <th>Date</th>\n",
       "      <th>Bill_Price</th>\n",
       "      <th>Total_PD</th>\n",
       "      <th>Dist_WSP</th>\n",
       "      <th>C-Dist_WSP</th>\n",
       "      <th>CD+QD</th>\n",
       "      <th>DF</th>\n",
       "      <th>CD+QD+DF</th>\n",
       "    </tr>\n",
       "  </thead>\n",
       "  <tbody>\n",
       "  </tbody>\n",
       "</table>\n",
       "</div>"
      ],
      "text/plain": [
       "Empty DataFrame\n",
       "Columns: [State, District, Date, Bill_Price, Total_PD, Dist_WSP, C-Dist_WSP, CD+QD, DF, CD+QD+DF]\n",
       "Index: []"
      ]
     },
     "execution_count": 23,
     "metadata": {},
     "output_type": "execute_result"
    }
   ],
   "source": [
    "subset_columns = ['State','District', 'Date']\n",
    "duplicates = east_pd1.duplicated(subset=subset_columns, keep=False)\n",
    "east_pd1[duplicates]"
   ]
  },
  {
   "cell_type": "code",
   "execution_count": 24,
   "id": "386b81a9-9095-4ea7-91c7-80012a5e00df",
   "metadata": {
    "tags": []
   },
   "outputs": [
    {
     "data": {
      "text/html": [
       "<div>\n",
       "<style scoped>\n",
       "    .dataframe tbody tr th:only-of-type {\n",
       "        vertical-align: middle;\n",
       "    }\n",
       "\n",
       "    .dataframe tbody tr th {\n",
       "        vertical-align: top;\n",
       "    }\n",
       "\n",
       "    .dataframe thead th {\n",
       "        text-align: right;\n",
       "    }\n",
       "</style>\n",
       "<table border=\"1\" class=\"dataframe\">\n",
       "  <thead>\n",
       "    <tr style=\"text-align: right;\">\n",
       "      <th></th>\n",
       "      <th>State</th>\n",
       "      <th>District</th>\n",
       "      <th>Date</th>\n",
       "      <th>Bill_Price</th>\n",
       "      <th>Total_PD</th>\n",
       "      <th>Dist_WSP</th>\n",
       "      <th>C-Dist_WSP</th>\n",
       "      <th>CD+QD</th>\n",
       "      <th>DF</th>\n",
       "      <th>CD+QD+DF</th>\n",
       "    </tr>\n",
       "  </thead>\n",
       "  <tbody>\n",
       "    <tr>\n",
       "      <th>0</th>\n",
       "      <td>West Bengal</td>\n",
       "      <td>MURSHIDABAD</td>\n",
       "      <td>2022-11-14</td>\n",
       "      <td>385.0</td>\n",
       "      <td>0.0</td>\n",
       "      <td>345.0</td>\n",
       "      <td>345.0</td>\n",
       "      <td>0.0</td>\n",
       "      <td>10.0</td>\n",
       "      <td>10</td>\n",
       "    </tr>\n",
       "    <tr>\n",
       "      <th>1</th>\n",
       "      <td>Bihar</td>\n",
       "      <td>LAKHISARAI</td>\n",
       "      <td>2023-01-16</td>\n",
       "      <td>422.0</td>\n",
       "      <td>27.0</td>\n",
       "      <td>372.5</td>\n",
       "      <td>372.5</td>\n",
       "      <td>4.0</td>\n",
       "      <td>6.0</td>\n",
       "      <td>10</td>\n",
       "    </tr>\n",
       "    <tr>\n",
       "      <th>2</th>\n",
       "      <td>OD</td>\n",
       "      <td>PURI</td>\n",
       "      <td>2022-09-18</td>\n",
       "      <td>360.0</td>\n",
       "      <td>5.0</td>\n",
       "      <td>315.0</td>\n",
       "      <td>315.0</td>\n",
       "      <td>4.5</td>\n",
       "      <td>5.5</td>\n",
       "      <td>10</td>\n",
       "    </tr>\n",
       "    <tr>\n",
       "      <th>3</th>\n",
       "      <td>Bihar</td>\n",
       "      <td>BUXAR</td>\n",
       "      <td>2022-11-18</td>\n",
       "      <td>419.0</td>\n",
       "      <td>35.0</td>\n",
       "      <td>362.5</td>\n",
       "      <td>NaN</td>\n",
       "      <td>4.0</td>\n",
       "      <td>6.0</td>\n",
       "      <td>10</td>\n",
       "    </tr>\n",
       "    <tr>\n",
       "      <th>4</th>\n",
       "      <td>OD</td>\n",
       "      <td>DEOGARH</td>\n",
       "      <td>2022-11-12</td>\n",
       "      <td>345.0</td>\n",
       "      <td>15.0</td>\n",
       "      <td>315.0</td>\n",
       "      <td>310.0</td>\n",
       "      <td>4.5</td>\n",
       "      <td>5.5</td>\n",
       "      <td>10</td>\n",
       "    </tr>\n",
       "  </tbody>\n",
       "</table>\n",
       "</div>"
      ],
      "text/plain": [
       "         State     District       Date  Bill_Price  Total_PD  Dist_WSP  \\\n",
       "0  West Bengal  MURSHIDABAD 2022-11-14       385.0       0.0     345.0   \n",
       "1        Bihar   LAKHISARAI 2023-01-16       422.0      27.0     372.5   \n",
       "2           OD         PURI 2022-09-18       360.0       5.0     315.0   \n",
       "3        Bihar        BUXAR 2022-11-18       419.0      35.0     362.5   \n",
       "4           OD      DEOGARH 2022-11-12       345.0      15.0     315.0   \n",
       "\n",
       "   C-Dist_WSP  CD+QD    DF  CD+QD+DF  \n",
       "0       345.0    0.0  10.0        10  \n",
       "1       372.5    4.0   6.0        10  \n",
       "2       315.0    4.5   5.5        10  \n",
       "3         NaN    4.0   6.0        10  \n",
       "4       310.0    4.5   5.5        10  "
      ]
     },
     "execution_count": 24,
     "metadata": {},
     "output_type": "execute_result"
    }
   ],
   "source": [
    "east_pd1.head()"
   ]
  },
  {
   "cell_type": "code",
   "execution_count": 25,
   "id": "28a84ab7-d8a5-4e82-881d-5fc4acc47c95",
   "metadata": {
    "tags": []
   },
   "outputs": [
    {
     "data": {
      "text/plain": [
       "array(['West Bengal', 'Bihar', 'OD', 'Jharkhand'], dtype=object)"
      ]
     },
     "execution_count": 25,
     "metadata": {},
     "output_type": "execute_result"
    }
   ],
   "source": [
    "east_pd1['State'].unique()"
   ]
  },
  {
   "cell_type": "code",
   "execution_count": 26,
   "id": "a193ac63-85bb-4f72-bd83-7f2fbdf29210",
   "metadata": {
    "tags": []
   },
   "outputs": [
    {
     "name": "stdout",
     "output_type": "stream",
     "text": [
      "<class 'pandas.core.frame.DataFrame'>\n",
      "Int64Index: 7000 entries, 0 to 6999\n",
      "Data columns (total 10 columns):\n",
      " #   Column      Non-Null Count  Dtype         \n",
      "---  ------      --------------  -----         \n",
      " 0   State       7000 non-null   object        \n",
      " 1   District    7000 non-null   object        \n",
      " 2   Date        7000 non-null   datetime64[ns]\n",
      " 3   Bill_Price  7000 non-null   float64       \n",
      " 4   Total_PD    7000 non-null   float64       \n",
      " 5   Dist_WSP    6999 non-null   float64       \n",
      " 6   C-Dist_WSP  5218 non-null   float64       \n",
      " 7   CD+QD       7000 non-null   float64       \n",
      " 8   DF          7000 non-null   float64       \n",
      " 9   CD+QD+DF    7000 non-null   int64         \n",
      "dtypes: datetime64[ns](1), float64(6), int64(1), object(2)\n",
      "memory usage: 601.6+ KB\n"
     ]
    }
   ],
   "source": [
    "east_pd1.info()"
   ]
  },
  {
   "cell_type": "code",
   "execution_count": 27,
   "id": "d8f90969-199b-4eac-a4b9-f71d2a19df17",
   "metadata": {
    "tags": []
   },
   "outputs": [
    {
     "data": {
      "text/plain": [
       "array([ 0.    ,  5.    , 25.    , 20.    , 10.    , 30.    , 12.5209,\n",
       "       15.    , 40.    , 11.1332, 35.    ])"
      ]
     },
     "execution_count": 27,
     "metadata": {},
     "output_type": "execute_result"
    }
   ],
   "source": [
    "east_pd1[east_pd1['District']=='UTTAR DINAJPUR']['Total_PD'].unique()"
   ]
  },
  {
   "cell_type": "markdown",
   "id": "ad59ca94-bc91-4f92-bfc0-85b3ba75d833",
   "metadata": {},
   "source": [
    "##### South PD WSP"
   ]
  },
  {
   "cell_type": "code",
   "execution_count": 28,
   "id": "9331d749-121b-46d9-b6c7-88bca90a22d8",
   "metadata": {
    "tags": []
   },
   "outputs": [],
   "source": [
    "# south_pd.columns"
   ]
  },
  {
   "cell_type": "code",
   "execution_count": 29,
   "id": "504d3428-fbed-419c-9a87-2f11e93fa998",
   "metadata": {
    "tags": []
   },
   "outputs": [],
   "source": [
    "# sel_cols= ['state','district', 'billing_date',\n",
    "#        'gross_pricebag_two','pd','dalmia_wsp','ut_wsp',]\n",
    "# south_pd1=south_pd[sel_cols].copy()\n",
    "# south_pd1.rename(columns={'state':'State','district':'District','billing_date':'Date',\n",
    "#                         'gross_pricebag_two':'Bill_Price','pd':'Total_PD',\n",
    "#                         'dalmia_wsp':'Dist_WSP','ut_wsp':'C-Dist_WSP'}, inplace=True)"
   ]
  },
  {
   "cell_type": "code",
   "execution_count": 30,
   "id": "cb968a71-733b-4086-853b-ca131990813d",
   "metadata": {
    "tags": []
   },
   "outputs": [],
   "source": [
    "# south_pd1.info()"
   ]
  },
  {
   "cell_type": "code",
   "execution_count": 31,
   "id": "8c38a071-31df-4402-a202-fc2359cbde4b",
   "metadata": {},
   "outputs": [],
   "source": [
    "# south_pd1 = south_pd1[south_pd1['Dist_WSP'].notnull()].copy()"
   ]
  },
  {
   "cell_type": "code",
   "execution_count": 32,
   "id": "97ede949-ef57-4d4b-b46e-5700fc94676b",
   "metadata": {
    "tags": []
   },
   "outputs": [],
   "source": [
    "# south_pd1['Date'].unique()"
   ]
  },
  {
   "cell_type": "code",
   "execution_count": 33,
   "id": "5809c33f-d423-462d-8770-5ce319b5fa36",
   "metadata": {
    "tags": []
   },
   "outputs": [],
   "source": [
    "# date_formats = ['%d.%m.%Y', '%Y-%m-%d %H:%M:%S']\n",
    "\n",
    "# parsed_dates = []\n",
    "# for date_str in south_pd1['Date']:\n",
    "#     for date_format in date_formats:\n",
    "#         try:\n",
    "#             parsed_date = pd.to_datetime(date_str, format=date_format)\n",
    "#             parsed_dates.append(parsed_date)\n",
    "#             break\n",
    "#         except ValueError:\n",
    "#             continue\n",
    "#     else:\n",
    "#         parsed_dates.append(pd.NaT)\n",
    "# south_pd1['Date'] = parsed_dates"
   ]
  },
  {
   "cell_type": "code",
   "execution_count": 34,
   "id": "f5cac368-049d-42cc-adf7-fa1a9893bed1",
   "metadata": {
    "tags": []
   },
   "outputs": [],
   "source": [
    "# south_pd1['Date'].unique()"
   ]
  },
  {
   "cell_type": "code",
   "execution_count": 35,
   "id": "621e2ba4-24c9-427c-9a6b-9a4b8d699a66",
   "metadata": {
    "tags": []
   },
   "outputs": [],
   "source": [
    "# south_pd1.head()"
   ]
  },
  {
   "cell_type": "markdown",
   "id": "0fb6b5ba-8ef5-4b2d-8ef1-122827a0097c",
   "metadata": {},
   "source": [
    "##### NE PD WSP"
   ]
  },
  {
   "cell_type": "code",
   "execution_count": 36,
   "id": "ce4f4f5d-4f51-401f-ba88-810628bed025",
   "metadata": {
    "tags": []
   },
   "outputs": [],
   "source": [
    "# ne_pd.columns"
   ]
  },
  {
   "cell_type": "code",
   "execution_count": 37,
   "id": "ca9439ec-308a-4c54-80b6-dd460c838585",
   "metadata": {
    "tags": []
   },
   "outputs": [],
   "source": [
    "# sel_cols= ['state','district', 'billing_date',\n",
    "#        'gross_price_bag_two','suggested_pd','dalmiawsp','star_wsp',]\n",
    "# ne_pd1=ne_pd[sel_cols].copy()\n",
    "# ne_pd1.rename(columns={'state':'State','district':'District','billing_date':'Date',\n",
    "#                         'gross_price_bag_two':'Bill_Price','suggested_pd':'Total_PD',\n",
    "#                         'dalmiawsp':'Dist_WSP','star_wsp':'C-Dist_WSP'}, inplace=True)"
   ]
  },
  {
   "cell_type": "code",
   "execution_count": 38,
   "id": "814f65f2-2088-4108-a7a5-97c760c14ae5",
   "metadata": {
    "tags": []
   },
   "outputs": [],
   "source": [
    "# ne_pd1['C-Dist_WSP'].unique()"
   ]
  },
  {
   "cell_type": "code",
   "execution_count": 39,
   "id": "89879ce7-a5ea-4290-b857-ea6e2cfae8f2",
   "metadata": {
    "tags": []
   },
   "outputs": [],
   "source": [
    "# ne_pd1 = ne_pd1[ne_pd1['Dist_WSP'].notnull()].copy()"
   ]
  },
  {
   "cell_type": "code",
   "execution_count": 40,
   "id": "2a3eaa90-d5f2-41b2-8933-b88c5e796ceb",
   "metadata": {
    "tags": []
   },
   "outputs": [],
   "source": [
    "# ne_pd1.loc[ne_pd1['C-Dist_WSP'] == 0., 'C-Dist_WSP'] = None"
   ]
  },
  {
   "cell_type": "code",
   "execution_count": 41,
   "id": "5b86724a-712a-4d98-a6c9-ea27418fb86c",
   "metadata": {
    "tags": []
   },
   "outputs": [],
   "source": [
    "# ne_pd1['Date'].info()"
   ]
  },
  {
   "cell_type": "code",
   "execution_count": 42,
   "id": "4e3522c9-730f-4d10-9284-0b8af8da12cc",
   "metadata": {
    "tags": []
   },
   "outputs": [],
   "source": [
    "# ne_pd1.head()"
   ]
  },
  {
   "cell_type": "markdown",
   "id": "09ad5108-3ee2-4247-820c-649817063ed2",
   "metadata": {},
   "source": [
    "##### Combine All PD WSP FILEs"
   ]
  },
  {
   "cell_type": "code",
   "execution_count": 43,
   "id": "b0e7b91f-a738-4412-9819-d5107c7f9cd2",
   "metadata": {
    "tags": []
   },
   "outputs": [],
   "source": [
    "# pd_wsp = pd.concat([east_pd1, south_pd1, ne_pd1], ignore_index=True)"
   ]
  },
  {
   "cell_type": "code",
   "execution_count": 44,
   "id": "71d8b55b-e07f-4839-b770-e2426c105c6e",
   "metadata": {
    "tags": []
   },
   "outputs": [],
   "source": [
    "# pd_wsp.info()"
   ]
  },
  {
   "cell_type": "code",
   "execution_count": 45,
   "id": "851aca39-bb9d-451b-9d3d-d5a49e89e429",
   "metadata": {
    "tags": []
   },
   "outputs": [],
   "source": [
    "pd_wsp=east_pd1.copy()"
   ]
  },
  {
   "cell_type": "code",
   "execution_count": 46,
   "id": "74e28187-c5e1-4bd4-bc36-8561625974eb",
   "metadata": {
    "tags": []
   },
   "outputs": [],
   "source": [
    "pd_wsp['District'] = pd_wsp['District'].str.upper()\n",
    "pd_wsp['Year-Month'] = pd_wsp['Date'].dt.strftime('%Y-%m')\n",
    "# Convert the 'month' column to datetime type\n",
    "pd_wsp['Year-Month'] = pd.to_datetime(pd_wsp['Year-Month'])\n",
    "# Extract the month and year from the 'month' column\n",
    "pd_wsp['Month'] = pd_wsp['Year-Month'].dt.strftime('%m\\'%y')\n",
    "# Drop the original 'month' column if needed\n",
    "pd_wsp.drop(columns=['Year-Month'], inplace=True)"
   ]
  },
  {
   "cell_type": "code",
   "execution_count": 47,
   "id": "10ca5c8c-2839-47e5-a945-4e3b2a59d8bb",
   "metadata": {
    "tags": []
   },
   "outputs": [
    {
     "data": {
      "text/html": [
       "<div>\n",
       "<style scoped>\n",
       "    .dataframe tbody tr th:only-of-type {\n",
       "        vertical-align: middle;\n",
       "    }\n",
       "\n",
       "    .dataframe tbody tr th {\n",
       "        vertical-align: top;\n",
       "    }\n",
       "\n",
       "    .dataframe thead th {\n",
       "        text-align: right;\n",
       "    }\n",
       "</style>\n",
       "<table border=\"1\" class=\"dataframe\">\n",
       "  <thead>\n",
       "    <tr style=\"text-align: right;\">\n",
       "      <th></th>\n",
       "      <th>State</th>\n",
       "      <th>District</th>\n",
       "      <th>Date</th>\n",
       "      <th>Bill_Price</th>\n",
       "      <th>Total_PD</th>\n",
       "      <th>Dist_WSP</th>\n",
       "      <th>C-Dist_WSP</th>\n",
       "      <th>CD+QD</th>\n",
       "      <th>DF</th>\n",
       "      <th>CD+QD+DF</th>\n",
       "      <th>Month</th>\n",
       "    </tr>\n",
       "  </thead>\n",
       "  <tbody>\n",
       "    <tr>\n",
       "      <th>0</th>\n",
       "      <td>West Bengal</td>\n",
       "      <td>MURSHIDABAD</td>\n",
       "      <td>2022-11-14</td>\n",
       "      <td>385.0</td>\n",
       "      <td>0.0</td>\n",
       "      <td>345.0</td>\n",
       "      <td>345.0</td>\n",
       "      <td>0.0</td>\n",
       "      <td>10.0</td>\n",
       "      <td>10</td>\n",
       "      <td>11'22</td>\n",
       "    </tr>\n",
       "    <tr>\n",
       "      <th>1</th>\n",
       "      <td>Bihar</td>\n",
       "      <td>LAKHISARAI</td>\n",
       "      <td>2023-01-16</td>\n",
       "      <td>422.0</td>\n",
       "      <td>27.0</td>\n",
       "      <td>372.5</td>\n",
       "      <td>372.5</td>\n",
       "      <td>4.0</td>\n",
       "      <td>6.0</td>\n",
       "      <td>10</td>\n",
       "      <td>01'23</td>\n",
       "    </tr>\n",
       "    <tr>\n",
       "      <th>2</th>\n",
       "      <td>OD</td>\n",
       "      <td>PURI</td>\n",
       "      <td>2022-09-18</td>\n",
       "      <td>360.0</td>\n",
       "      <td>5.0</td>\n",
       "      <td>315.0</td>\n",
       "      <td>315.0</td>\n",
       "      <td>4.5</td>\n",
       "      <td>5.5</td>\n",
       "      <td>10</td>\n",
       "      <td>09'22</td>\n",
       "    </tr>\n",
       "    <tr>\n",
       "      <th>3</th>\n",
       "      <td>Bihar</td>\n",
       "      <td>BUXAR</td>\n",
       "      <td>2022-11-18</td>\n",
       "      <td>419.0</td>\n",
       "      <td>35.0</td>\n",
       "      <td>362.5</td>\n",
       "      <td>NaN</td>\n",
       "      <td>4.0</td>\n",
       "      <td>6.0</td>\n",
       "      <td>10</td>\n",
       "      <td>11'22</td>\n",
       "    </tr>\n",
       "    <tr>\n",
       "      <th>4</th>\n",
       "      <td>OD</td>\n",
       "      <td>DEOGARH</td>\n",
       "      <td>2022-11-12</td>\n",
       "      <td>345.0</td>\n",
       "      <td>15.0</td>\n",
       "      <td>315.0</td>\n",
       "      <td>310.0</td>\n",
       "      <td>4.5</td>\n",
       "      <td>5.5</td>\n",
       "      <td>10</td>\n",
       "      <td>11'22</td>\n",
       "    </tr>\n",
       "  </tbody>\n",
       "</table>\n",
       "</div>"
      ],
      "text/plain": [
       "         State     District       Date  Bill_Price  Total_PD  Dist_WSP  \\\n",
       "0  West Bengal  MURSHIDABAD 2022-11-14       385.0       0.0     345.0   \n",
       "1        Bihar   LAKHISARAI 2023-01-16       422.0      27.0     372.5   \n",
       "2           OD         PURI 2022-09-18       360.0       5.0     315.0   \n",
       "3        Bihar        BUXAR 2022-11-18       419.0      35.0     362.5   \n",
       "4           OD      DEOGARH 2022-11-12       345.0      15.0     315.0   \n",
       "\n",
       "   C-Dist_WSP  CD+QD    DF  CD+QD+DF  Month  \n",
       "0       345.0    0.0  10.0        10  11'22  \n",
       "1       372.5    4.0   6.0        10  01'23  \n",
       "2       315.0    4.5   5.5        10  09'22  \n",
       "3         NaN    4.0   6.0        10  11'22  \n",
       "4       310.0    4.5   5.5        10  11'22  "
      ]
     },
     "execution_count": 47,
     "metadata": {},
     "output_type": "execute_result"
    }
   ],
   "source": [
    "pd_wsp.head()"
   ]
  },
  {
   "cell_type": "code",
   "execution_count": 48,
   "id": "0f154369-ff02-4782-abe4-dd64a0701f6f",
   "metadata": {
    "tags": []
   },
   "outputs": [],
   "source": [
    "# pd_wsp_1=pd_wsp.groupby(['State','District', 'Month'], as_index=False).apply(lambda group: pd.Series({\n",
    "#     'M_Bill_Price': group['Bill_Price'].mean(), \n",
    "#     'M_Total_PD': group['Total_PD'].mean(),\n",
    "#     'M_Dist_WSP': group['Dist_WSP'].mean(),\n",
    "#     'M_C-Dist_WSP': group['C-Dist_WSP'].mean(),\n",
    "# }))"
   ]
  },
  {
   "cell_type": "code",
   "execution_count": 49,
   "id": "3e80757f-94cb-42e5-bc27-28ffb6e3bf17",
   "metadata": {
    "tags": []
   },
   "outputs": [],
   "source": [
    "# pd_wsp = pd.merge(pd_wsp,pd_wsp_1, how='inner',left_on=['State','District', 'Month'],right_on=['State','District', 'Month'])"
   ]
  },
  {
   "cell_type": "code",
   "execution_count": 50,
   "id": "706e7391-2069-4e06-a267-b708585bf536",
   "metadata": {
    "tags": []
   },
   "outputs": [
    {
     "data": {
      "text/plain": [
       "array([ 0.    ,  5.    , 25.    , 20.    , 10.    , 30.    , 12.5209,\n",
       "       15.    , 40.    , 11.1332, 35.    ])"
      ]
     },
     "execution_count": 50,
     "metadata": {},
     "output_type": "execute_result"
    }
   ],
   "source": [
    "pd_wsp[pd_wsp['District']=='UTTAR DINAJPUR']['Total_PD'].unique()"
   ]
  },
  {
   "cell_type": "code",
   "execution_count": 51,
   "id": "d3d67055-f096-4593-b62f-6768f4f4a7c5",
   "metadata": {
    "tags": []
   },
   "outputs": [
    {
     "data": {
      "text/html": [
       "<div>\n",
       "<style scoped>\n",
       "    .dataframe tbody tr th:only-of-type {\n",
       "        vertical-align: middle;\n",
       "    }\n",
       "\n",
       "    .dataframe tbody tr th {\n",
       "        vertical-align: top;\n",
       "    }\n",
       "\n",
       "    .dataframe thead th {\n",
       "        text-align: right;\n",
       "    }\n",
       "</style>\n",
       "<table border=\"1\" class=\"dataframe\">\n",
       "  <thead>\n",
       "    <tr style=\"text-align: right;\">\n",
       "      <th></th>\n",
       "      <th>State</th>\n",
       "      <th>District</th>\n",
       "      <th>Date</th>\n",
       "      <th>Bill_Price</th>\n",
       "      <th>Total_PD</th>\n",
       "      <th>Dist_WSP</th>\n",
       "      <th>C-Dist_WSP</th>\n",
       "      <th>CD+QD</th>\n",
       "      <th>DF</th>\n",
       "      <th>CD+QD+DF</th>\n",
       "      <th>Month</th>\n",
       "    </tr>\n",
       "  </thead>\n",
       "  <tbody>\n",
       "    <tr>\n",
       "      <th>0</th>\n",
       "      <td>West Bengal</td>\n",
       "      <td>MURSHIDABAD</td>\n",
       "      <td>2022-11-14</td>\n",
       "      <td>385.0</td>\n",
       "      <td>0.0</td>\n",
       "      <td>345.0</td>\n",
       "      <td>345.0</td>\n",
       "      <td>0.0</td>\n",
       "      <td>10.0</td>\n",
       "      <td>10</td>\n",
       "      <td>11'22</td>\n",
       "    </tr>\n",
       "    <tr>\n",
       "      <th>1</th>\n",
       "      <td>Bihar</td>\n",
       "      <td>LAKHISARAI</td>\n",
       "      <td>2023-01-16</td>\n",
       "      <td>422.0</td>\n",
       "      <td>27.0</td>\n",
       "      <td>372.5</td>\n",
       "      <td>372.5</td>\n",
       "      <td>4.0</td>\n",
       "      <td>6.0</td>\n",
       "      <td>10</td>\n",
       "      <td>01'23</td>\n",
       "    </tr>\n",
       "    <tr>\n",
       "      <th>2</th>\n",
       "      <td>OD</td>\n",
       "      <td>PURI</td>\n",
       "      <td>2022-09-18</td>\n",
       "      <td>360.0</td>\n",
       "      <td>5.0</td>\n",
       "      <td>315.0</td>\n",
       "      <td>315.0</td>\n",
       "      <td>4.5</td>\n",
       "      <td>5.5</td>\n",
       "      <td>10</td>\n",
       "      <td>09'22</td>\n",
       "    </tr>\n",
       "    <tr>\n",
       "      <th>3</th>\n",
       "      <td>Bihar</td>\n",
       "      <td>BUXAR</td>\n",
       "      <td>2022-11-18</td>\n",
       "      <td>419.0</td>\n",
       "      <td>35.0</td>\n",
       "      <td>362.5</td>\n",
       "      <td>NaN</td>\n",
       "      <td>4.0</td>\n",
       "      <td>6.0</td>\n",
       "      <td>10</td>\n",
       "      <td>11'22</td>\n",
       "    </tr>\n",
       "    <tr>\n",
       "      <th>4</th>\n",
       "      <td>OD</td>\n",
       "      <td>DEOGARH</td>\n",
       "      <td>2022-11-12</td>\n",
       "      <td>345.0</td>\n",
       "      <td>15.0</td>\n",
       "      <td>315.0</td>\n",
       "      <td>310.0</td>\n",
       "      <td>4.5</td>\n",
       "      <td>5.5</td>\n",
       "      <td>10</td>\n",
       "      <td>11'22</td>\n",
       "    </tr>\n",
       "  </tbody>\n",
       "</table>\n",
       "</div>"
      ],
      "text/plain": [
       "         State     District       Date  Bill_Price  Total_PD  Dist_WSP  \\\n",
       "0  West Bengal  MURSHIDABAD 2022-11-14       385.0       0.0     345.0   \n",
       "1        Bihar   LAKHISARAI 2023-01-16       422.0      27.0     372.5   \n",
       "2           OD         PURI 2022-09-18       360.0       5.0     315.0   \n",
       "3        Bihar        BUXAR 2022-11-18       419.0      35.0     362.5   \n",
       "4           OD      DEOGARH 2022-11-12       345.0      15.0     315.0   \n",
       "\n",
       "   C-Dist_WSP  CD+QD    DF  CD+QD+DF  Month  \n",
       "0       345.0    0.0  10.0        10  11'22  \n",
       "1       372.5    4.0   6.0        10  01'23  \n",
       "2       315.0    4.5   5.5        10  09'22  \n",
       "3         NaN    4.0   6.0        10  11'22  \n",
       "4       310.0    4.5   5.5        10  11'22  "
      ]
     },
     "execution_count": 51,
     "metadata": {},
     "output_type": "execute_result"
    }
   ],
   "source": [
    "pd_wsp.head()"
   ]
  },
  {
   "cell_type": "code",
   "execution_count": 52,
   "id": "e25d3e1a-b648-48ed-a984-70217d971a23",
   "metadata": {
    "tags": []
   },
   "outputs": [
    {
     "data": {
      "text/html": [
       "<div>\n",
       "<style scoped>\n",
       "    .dataframe tbody tr th:only-of-type {\n",
       "        vertical-align: middle;\n",
       "    }\n",
       "\n",
       "    .dataframe tbody tr th {\n",
       "        vertical-align: top;\n",
       "    }\n",
       "\n",
       "    .dataframe thead th {\n",
       "        text-align: right;\n",
       "    }\n",
       "</style>\n",
       "<table border=\"1\" class=\"dataframe\">\n",
       "  <thead>\n",
       "    <tr style=\"text-align: right;\">\n",
       "      <th></th>\n",
       "      <th>State</th>\n",
       "      <th>District</th>\n",
       "      <th>Date</th>\n",
       "      <th>Bill_Price</th>\n",
       "      <th>Total_PD</th>\n",
       "      <th>Dist_WSP</th>\n",
       "      <th>C-Dist_WSP</th>\n",
       "      <th>CD+QD</th>\n",
       "      <th>DF</th>\n",
       "      <th>CD+QD+DF</th>\n",
       "      <th>Month</th>\n",
       "    </tr>\n",
       "  </thead>\n",
       "  <tbody>\n",
       "  </tbody>\n",
       "</table>\n",
       "</div>"
      ],
      "text/plain": [
       "Empty DataFrame\n",
       "Columns: [State, District, Date, Bill_Price, Total_PD, Dist_WSP, C-Dist_WSP, CD+QD, DF, CD+QD+DF, Month]\n",
       "Index: []"
      ]
     },
     "execution_count": 52,
     "metadata": {},
     "output_type": "execute_result"
    }
   ],
   "source": [
    "subset_columns = ['State', 'District', 'Month', 'Date']\n",
    "duplicates = pd_wsp.duplicated(subset=subset_columns, keep=False)\n",
    "pd_wsp[duplicates]"
   ]
  },
  {
   "cell_type": "code",
   "execution_count": 53,
   "id": "3b51005a-9328-4c41-a745-4fd336de571b",
   "metadata": {
    "tags": []
   },
   "outputs": [],
   "source": [
    "# pd_wsp.to_excel('UPD.xlsx')"
   ]
  },
  {
   "cell_type": "code",
   "execution_count": 54,
   "id": "20a7af82-43e7-4d5d-bd0b-443519b45351",
   "metadata": {
    "tags": []
   },
   "outputs": [
    {
     "data": {
      "text/html": [
       "<div>\n",
       "<style scoped>\n",
       "    .dataframe tbody tr th:only-of-type {\n",
       "        vertical-align: middle;\n",
       "    }\n",
       "\n",
       "    .dataframe tbody tr th {\n",
       "        vertical-align: top;\n",
       "    }\n",
       "\n",
       "    .dataframe thead th {\n",
       "        text-align: right;\n",
       "    }\n",
       "</style>\n",
       "<table border=\"1\" class=\"dataframe\">\n",
       "  <thead>\n",
       "    <tr style=\"text-align: right;\">\n",
       "      <th></th>\n",
       "      <th>State</th>\n",
       "      <th>District</th>\n",
       "      <th>Date</th>\n",
       "      <th>Bill_Price</th>\n",
       "      <th>Total_PD</th>\n",
       "      <th>Dist_WSP</th>\n",
       "      <th>C-Dist_WSP</th>\n",
       "      <th>CD+QD</th>\n",
       "      <th>DF</th>\n",
       "      <th>CD+QD+DF</th>\n",
       "      <th>Month</th>\n",
       "    </tr>\n",
       "  </thead>\n",
       "  <tbody>\n",
       "    <tr>\n",
       "      <th>0</th>\n",
       "      <td>West Bengal</td>\n",
       "      <td>MURSHIDABAD</td>\n",
       "      <td>2022-11-14</td>\n",
       "      <td>385.0</td>\n",
       "      <td>0.0</td>\n",
       "      <td>345.0</td>\n",
       "      <td>345.0</td>\n",
       "      <td>0.0</td>\n",
       "      <td>10.0</td>\n",
       "      <td>10</td>\n",
       "      <td>11'22</td>\n",
       "    </tr>\n",
       "    <tr>\n",
       "      <th>1</th>\n",
       "      <td>Bihar</td>\n",
       "      <td>LAKHISARAI</td>\n",
       "      <td>2023-01-16</td>\n",
       "      <td>422.0</td>\n",
       "      <td>27.0</td>\n",
       "      <td>372.5</td>\n",
       "      <td>372.5</td>\n",
       "      <td>4.0</td>\n",
       "      <td>6.0</td>\n",
       "      <td>10</td>\n",
       "      <td>01'23</td>\n",
       "    </tr>\n",
       "    <tr>\n",
       "      <th>2</th>\n",
       "      <td>OD</td>\n",
       "      <td>PURI</td>\n",
       "      <td>2022-09-18</td>\n",
       "      <td>360.0</td>\n",
       "      <td>5.0</td>\n",
       "      <td>315.0</td>\n",
       "      <td>315.0</td>\n",
       "      <td>4.5</td>\n",
       "      <td>5.5</td>\n",
       "      <td>10</td>\n",
       "      <td>09'22</td>\n",
       "    </tr>\n",
       "    <tr>\n",
       "      <th>3</th>\n",
       "      <td>Bihar</td>\n",
       "      <td>BUXAR</td>\n",
       "      <td>2022-11-18</td>\n",
       "      <td>419.0</td>\n",
       "      <td>35.0</td>\n",
       "      <td>362.5</td>\n",
       "      <td>NaN</td>\n",
       "      <td>4.0</td>\n",
       "      <td>6.0</td>\n",
       "      <td>10</td>\n",
       "      <td>11'22</td>\n",
       "    </tr>\n",
       "    <tr>\n",
       "      <th>4</th>\n",
       "      <td>OD</td>\n",
       "      <td>DEOGARH</td>\n",
       "      <td>2022-11-12</td>\n",
       "      <td>345.0</td>\n",
       "      <td>15.0</td>\n",
       "      <td>315.0</td>\n",
       "      <td>310.0</td>\n",
       "      <td>4.5</td>\n",
       "      <td>5.5</td>\n",
       "      <td>10</td>\n",
       "      <td>11'22</td>\n",
       "    </tr>\n",
       "  </tbody>\n",
       "</table>\n",
       "</div>"
      ],
      "text/plain": [
       "         State     District       Date  Bill_Price  Total_PD  Dist_WSP  \\\n",
       "0  West Bengal  MURSHIDABAD 2022-11-14       385.0       0.0     345.0   \n",
       "1        Bihar   LAKHISARAI 2023-01-16       422.0      27.0     372.5   \n",
       "2           OD         PURI 2022-09-18       360.0       5.0     315.0   \n",
       "3        Bihar        BUXAR 2022-11-18       419.0      35.0     362.5   \n",
       "4           OD      DEOGARH 2022-11-12       345.0      15.0     315.0   \n",
       "\n",
       "   C-Dist_WSP  CD+QD    DF  CD+QD+DF  Month  \n",
       "0       345.0    0.0  10.0        10  11'22  \n",
       "1       372.5    4.0   6.0        10  01'23  \n",
       "2       315.0    4.5   5.5        10  09'22  \n",
       "3         NaN    4.0   6.0        10  11'22  \n",
       "4       310.0    4.5   5.5        10  11'22  "
      ]
     },
     "execution_count": 54,
     "metadata": {},
     "output_type": "execute_result"
    }
   ],
   "source": [
    "pd_wsp.head()"
   ]
  },
  {
   "cell_type": "markdown",
   "id": "aedf2d1a-1cca-4cf8-ace0-59b256a080cf",
   "metadata": {},
   "source": [
    "#### PJP ASO "
   ]
  },
  {
   "cell_type": "code",
   "execution_count": 55,
   "id": "542a6a93-4b1d-4099-948c-050a8c43404d",
   "metadata": {
    "tags": []
   },
   "outputs": [
    {
     "name": "stdout",
     "output_type": "stream",
     "text": [
      "<class 'pandas.core.frame.DataFrame'>\n",
      "RangeIndex: 100000 entries, 0 to 99999\n",
      "Data columns (total 9 columns):\n",
      " #   Column       Non-Null Count   Dtype         \n",
      "---  ------       --------------   -----         \n",
      " 0   Unnamed: 0   100000 non-null  int64         \n",
      " 1   visitdate    100000 non-null  datetime64[ns]\n",
      " 2   referenceid  100000 non-null  object        \n",
      " 3   dapid        100000 non-null  int64         \n",
      " 4   partycode    93173 non-null   float64       \n",
      " 5   product      100000 non-null  object        \n",
      " 6   company      99986 non-null   object        \n",
      " 7   wsp          100000 non-null  int64         \n",
      " 8   rsp          98360 non-null   float64       \n",
      "dtypes: datetime64[ns](1), float64(2), int64(3), object(3)\n",
      "memory usage: 6.9+ MB\n"
     ]
    }
   ],
   "source": [
    "pjp_aso.info()"
   ]
  },
  {
   "cell_type": "code",
   "execution_count": 56,
   "id": "f210b743-0f6d-408c-927f-6cc9ffda3914",
   "metadata": {
    "tags": []
   },
   "outputs": [
    {
     "data": {
      "text/html": [
       "<div>\n",
       "<style scoped>\n",
       "    .dataframe tbody tr th:only-of-type {\n",
       "        vertical-align: middle;\n",
       "    }\n",
       "\n",
       "    .dataframe tbody tr th {\n",
       "        vertical-align: top;\n",
       "    }\n",
       "\n",
       "    .dataframe thead th {\n",
       "        text-align: right;\n",
       "    }\n",
       "</style>\n",
       "<table border=\"1\" class=\"dataframe\">\n",
       "  <thead>\n",
       "    <tr style=\"text-align: right;\">\n",
       "      <th></th>\n",
       "      <th>Unnamed: 0</th>\n",
       "      <th>visitdate</th>\n",
       "      <th>referenceid</th>\n",
       "      <th>dapid</th>\n",
       "      <th>partycode</th>\n",
       "      <th>product</th>\n",
       "      <th>company</th>\n",
       "      <th>wsp</th>\n",
       "      <th>rsp</th>\n",
       "    </tr>\n",
       "  </thead>\n",
       "  <tbody>\n",
       "    <tr>\n",
       "      <th>0</th>\n",
       "      <td>2180816</td>\n",
       "      <td>2022-05-26</td>\n",
       "      <td>EMP0006784</td>\n",
       "      <td>1756</td>\n",
       "      <td>77049927.0</td>\n",
       "      <td>DDSP</td>\n",
       "      <td>DALMIA</td>\n",
       "      <td>360</td>\n",
       "      <td>365.0</td>\n",
       "    </tr>\n",
       "    <tr>\n",
       "      <th>1</th>\n",
       "      <td>1502180</td>\n",
       "      <td>2023-08-22</td>\n",
       "      <td>EMP1027058</td>\n",
       "      <td>4376</td>\n",
       "      <td>7027105.0</td>\n",
       "      <td>ULTRATECH SUPER PPC</td>\n",
       "      <td>ULTRATECH</td>\n",
       "      <td>325</td>\n",
       "      <td>335.0</td>\n",
       "    </tr>\n",
       "    <tr>\n",
       "      <th>2</th>\n",
       "      <td>1525439</td>\n",
       "      <td>2023-08-24</td>\n",
       "      <td>EMP0010253</td>\n",
       "      <td>108631</td>\n",
       "      <td>77078697.0</td>\n",
       "      <td>DDSP</td>\n",
       "      <td>DALMIA</td>\n",
       "      <td>365</td>\n",
       "      <td>375.0</td>\n",
       "    </tr>\n",
       "    <tr>\n",
       "      <th>3</th>\n",
       "      <td>1416270</td>\n",
       "      <td>2023-08-11</td>\n",
       "      <td>EMP0009927</td>\n",
       "      <td>11692</td>\n",
       "      <td>7001476.0</td>\n",
       "      <td>ULTRATECH PPC</td>\n",
       "      <td>ULTRATECH</td>\n",
       "      <td>310</td>\n",
       "      <td>320.0</td>\n",
       "    </tr>\n",
       "    <tr>\n",
       "      <th>4</th>\n",
       "      <td>1403886</td>\n",
       "      <td>2023-08-10</td>\n",
       "      <td>EMP1038970</td>\n",
       "      <td>12673</td>\n",
       "      <td>7001611.0</td>\n",
       "      <td>DCFT</td>\n",
       "      <td>DALMIA</td>\n",
       "      <td>355</td>\n",
       "      <td>370.0</td>\n",
       "    </tr>\n",
       "  </tbody>\n",
       "</table>\n",
       "</div>"
      ],
      "text/plain": [
       "   Unnamed: 0  visitdate referenceid   dapid   partycode              product  \\\n",
       "0     2180816 2022-05-26  EMP0006784    1756  77049927.0                 DDSP   \n",
       "1     1502180 2023-08-22  EMP1027058    4376   7027105.0  ULTRATECH SUPER PPC   \n",
       "2     1525439 2023-08-24  EMP0010253  108631  77078697.0                 DDSP   \n",
       "3     1416270 2023-08-11  EMP0009927   11692   7001476.0        ULTRATECH PPC   \n",
       "4     1403886 2023-08-10  EMP1038970   12673   7001611.0                 DCFT   \n",
       "\n",
       "     company  wsp    rsp  \n",
       "0     DALMIA  360  365.0  \n",
       "1  ULTRATECH  325  335.0  \n",
       "2     DALMIA  365  375.0  \n",
       "3  ULTRATECH  310  320.0  \n",
       "4     DALMIA  355  370.0  "
      ]
     },
     "execution_count": 56,
     "metadata": {},
     "output_type": "execute_result"
    }
   ],
   "source": [
    "pjp_aso.head()"
   ]
  },
  {
   "cell_type": "code",
   "execution_count": 57,
   "id": "b04c8951-4f4c-4851-94f7-dab8f5faf6a5",
   "metadata": {
    "tags": []
   },
   "outputs": [],
   "source": [
    "pjp_aso=pjp_aso[(pjp_aso['product']=='DCFT') & (pjp_aso['company']=='DALMIA')].copy()\n",
    "sel_cols = ['visitdate', 'referenceid', 'partycode', 'wsp']\n",
    "pjp_aso = pjp_aso[sel_cols]\n",
    "pjp_aso.rename(columns={'visitdate': 'Date', 'referenceid':'ASO_ID','partycode':'Dealer_ID',\n",
    "                  'wsp': 'ASO_WSP'}, inplace=True)\n",
    "pjp_aso1=pjp_aso[(pjp_aso['Dealer_ID']>=7000000) & (pjp_aso['Dealer_ID']<=7100000)].copy()\n",
    "pjp_aso1['ASO_ID'] = pjp_aso1['ASO_ID'].apply(lambda x: x.replace(' ', ''))\n",
    "pjp_aso1=pjp_aso1[pjp_aso1['ASO_ID']!='AG00015'].copy()\n",
    "pjp_aso1['Dealer_ID'] = pjp_aso1['Dealer_ID'].astype(int)\n",
    "pjp_aso1 = pjp_aso1.groupby(['ASO_ID', 'Dealer_ID', 'Date'],as_index=False)['ASO_WSP'].mean()\n",
    "pjp_aso1['Year-Month'] = pjp_aso1['Date'].dt.strftime('%Y-%m')\n",
    "# Convert the 'month' column to datetime type\n",
    "pjp_aso1['Year-Month'] = pd.to_datetime(pjp_aso1['Year-Month'])\n",
    "# Extract the month and year from the 'month' column\n",
    "pjp_aso1['Month'] = pjp_aso1['Year-Month'].dt.strftime('%m\\'%y')\n",
    "# Drop the original 'month' column if needed\n",
    "pjp_aso1.drop(columns=['Year-Month'], inplace=True)"
   ]
  },
  {
   "cell_type": "code",
   "execution_count": 58,
   "id": "5785668e-1824-4e5b-9aca-eb9a7cf3ae10",
   "metadata": {
    "tags": []
   },
   "outputs": [
    {
     "data": {
      "text/html": [
       "<div>\n",
       "<style scoped>\n",
       "    .dataframe tbody tr th:only-of-type {\n",
       "        vertical-align: middle;\n",
       "    }\n",
       "\n",
       "    .dataframe tbody tr th {\n",
       "        vertical-align: top;\n",
       "    }\n",
       "\n",
       "    .dataframe thead th {\n",
       "        text-align: right;\n",
       "    }\n",
       "</style>\n",
       "<table border=\"1\" class=\"dataframe\">\n",
       "  <thead>\n",
       "    <tr style=\"text-align: right;\">\n",
       "      <th></th>\n",
       "      <th>ASO_ID</th>\n",
       "      <th>Dealer_ID</th>\n",
       "      <th>Date</th>\n",
       "      <th>ASO_WSP</th>\n",
       "      <th>Month</th>\n",
       "    </tr>\n",
       "  </thead>\n",
       "  <tbody>\n",
       "    <tr>\n",
       "      <th>0</th>\n",
       "      <td>EMP0000013</td>\n",
       "      <td>7015945</td>\n",
       "      <td>2022-04-20</td>\n",
       "      <td>415.0</td>\n",
       "      <td>04'22</td>\n",
       "    </tr>\n",
       "    <tr>\n",
       "      <th>1</th>\n",
       "      <td>EMP0000013</td>\n",
       "      <td>7015945</td>\n",
       "      <td>2022-07-28</td>\n",
       "      <td>375.0</td>\n",
       "      <td>07'22</td>\n",
       "    </tr>\n",
       "    <tr>\n",
       "      <th>2</th>\n",
       "      <td>EMP0000013</td>\n",
       "      <td>7016493</td>\n",
       "      <td>2022-10-06</td>\n",
       "      <td>400.0</td>\n",
       "      <td>10'22</td>\n",
       "    </tr>\n",
       "    <tr>\n",
       "      <th>3</th>\n",
       "      <td>EMP0000013</td>\n",
       "      <td>7016726</td>\n",
       "      <td>2022-08-17</td>\n",
       "      <td>370.0</td>\n",
       "      <td>08'22</td>\n",
       "    </tr>\n",
       "    <tr>\n",
       "      <th>4</th>\n",
       "      <td>EMP0000013</td>\n",
       "      <td>7016957</td>\n",
       "      <td>2022-10-18</td>\n",
       "      <td>400.0</td>\n",
       "      <td>10'22</td>\n",
       "    </tr>\n",
       "  </tbody>\n",
       "</table>\n",
       "</div>"
      ],
      "text/plain": [
       "       ASO_ID  Dealer_ID       Date  ASO_WSP  Month\n",
       "0  EMP0000013    7015945 2022-04-20    415.0  04'22\n",
       "1  EMP0000013    7015945 2022-07-28    375.0  07'22\n",
       "2  EMP0000013    7016493 2022-10-06    400.0  10'22\n",
       "3  EMP0000013    7016726 2022-08-17    370.0  08'22\n",
       "4  EMP0000013    7016957 2022-10-18    400.0  10'22"
      ]
     },
     "execution_count": 58,
     "metadata": {},
     "output_type": "execute_result"
    }
   ],
   "source": [
    "pjp_aso1.head()"
   ]
  },
  {
   "cell_type": "code",
   "execution_count": 59,
   "id": "8cac2b71-6a25-4931-9ccd-f8da6f5f0497",
   "metadata": {},
   "outputs": [],
   "source": [
    "# pjp_aso1.to_excel('ASO_WSP.xlsx')"
   ]
  },
  {
   "cell_type": "markdown",
   "id": "867acf18-3e4f-4bf0-83ae-cff9c52d7db4",
   "metadata": {},
   "source": [
    "#### Sales File"
   ]
  },
  {
   "cell_type": "code",
   "execution_count": 60,
   "id": "1a866690-8a1d-41b8-b005-96609e1c1cf2",
   "metadata": {
    "tags": []
   },
   "outputs": [],
   "source": [
    "df5=pd.read_excel(path1+'/'+'Sales_Sample.xlsx')\n",
    "sales1=df5.copy()"
   ]
  },
  {
   "cell_type": "code",
   "execution_count": 61,
   "id": "0e119cb8-b837-4849-a33f-07e344b1c511",
   "metadata": {
    "tags": []
   },
   "outputs": [
    {
     "data": {
      "text/html": [
       "<div>\n",
       "<style scoped>\n",
       "    .dataframe tbody tr th:only-of-type {\n",
       "        vertical-align: middle;\n",
       "    }\n",
       "\n",
       "    .dataframe tbody tr th {\n",
       "        vertical-align: top;\n",
       "    }\n",
       "\n",
       "    .dataframe thead th {\n",
       "        text-align: right;\n",
       "    }\n",
       "</style>\n",
       "<table border=\"1\" class=\"dataframe\">\n",
       "  <thead>\n",
       "    <tr style=\"text-align: right;\">\n",
       "      <th></th>\n",
       "      <th>Unnamed: 0</th>\n",
       "      <th>sales_region</th>\n",
       "      <th>sales_zone</th>\n",
       "      <th>sold_to_party_district_name</th>\n",
       "      <th>billing_date</th>\n",
       "      <th>sold_to_party_code</th>\n",
       "      <th>sales_type</th>\n",
       "      <th>bill_quantity</th>\n",
       "      <th>gross_bill_price</th>\n",
       "    </tr>\n",
       "  </thead>\n",
       "  <tbody>\n",
       "    <tr>\n",
       "      <th>0</th>\n",
       "      <td>381578</td>\n",
       "      <td>East</td>\n",
       "      <td>BHS</td>\n",
       "      <td>GAYA</td>\n",
       "      <td>2022-10-13</td>\n",
       "      <td>7027215</td>\n",
       "      <td>Trade</td>\n",
       "      <td>25.0</td>\n",
       "      <td>179000</td>\n",
       "    </tr>\n",
       "    <tr>\n",
       "      <th>1</th>\n",
       "      <td>2014124</td>\n",
       "      <td>East</td>\n",
       "      <td>BHS</td>\n",
       "      <td>ROHTAS</td>\n",
       "      <td>2023-03-30</td>\n",
       "      <td>7014927</td>\n",
       "      <td>Trade</td>\n",
       "      <td>7.5</td>\n",
       "      <td>61650</td>\n",
       "    </tr>\n",
       "    <tr>\n",
       "      <th>2</th>\n",
       "      <td>859505</td>\n",
       "      <td>East</td>\n",
       "      <td>WBS</td>\n",
       "      <td>MEDINAPUR WEST</td>\n",
       "      <td>2022-08-07</td>\n",
       "      <td>7032165</td>\n",
       "      <td>Trade</td>\n",
       "      <td>6.0</td>\n",
       "      <td>46920</td>\n",
       "    </tr>\n",
       "    <tr>\n",
       "      <th>3</th>\n",
       "      <td>1062125</td>\n",
       "      <td>East</td>\n",
       "      <td>ODW</td>\n",
       "      <td>ANGUL</td>\n",
       "      <td>2022-06-21</td>\n",
       "      <td>7000510</td>\n",
       "      <td>Trade</td>\n",
       "      <td>10.0</td>\n",
       "      <td>78000</td>\n",
       "    </tr>\n",
       "    <tr>\n",
       "      <th>4</th>\n",
       "      <td>1554702</td>\n",
       "      <td>East</td>\n",
       "      <td>ODW</td>\n",
       "      <td>SUNDARGARH</td>\n",
       "      <td>2022-04-10</td>\n",
       "      <td>7000481</td>\n",
       "      <td>Trade</td>\n",
       "      <td>10.0</td>\n",
       "      <td>73000</td>\n",
       "    </tr>\n",
       "  </tbody>\n",
       "</table>\n",
       "</div>"
      ],
      "text/plain": [
       "   Unnamed: 0 sales_region sales_zone sold_to_party_district_name  \\\n",
       "0      381578         East        BHS                        GAYA   \n",
       "1     2014124         East        BHS                      ROHTAS   \n",
       "2      859505         East        WBS              MEDINAPUR WEST   \n",
       "3     1062125         East        ODW                       ANGUL   \n",
       "4     1554702         East        ODW                  SUNDARGARH   \n",
       "\n",
       "  billing_date  sold_to_party_code sales_type  bill_quantity  gross_bill_price  \n",
       "0   2022-10-13             7027215      Trade           25.0            179000  \n",
       "1   2023-03-30             7014927      Trade            7.5             61650  \n",
       "2   2022-08-07             7032165      Trade            6.0             46920  \n",
       "3   2022-06-21             7000510      Trade           10.0             78000  \n",
       "4   2022-04-10             7000481      Trade           10.0             73000  "
      ]
     },
     "execution_count": 61,
     "metadata": {},
     "output_type": "execute_result"
    }
   ],
   "source": [
    "sales1.head()"
   ]
  },
  {
   "cell_type": "code",
   "execution_count": 62,
   "id": "2f2ba198-0bf0-4393-a094-77e8f0ca1802",
   "metadata": {
    "tags": []
   },
   "outputs": [],
   "source": [
    "# sales1[sales1['sold_to_party_code']==7000004]['billing_date'].unique()"
   ]
  },
  {
   "cell_type": "code",
   "execution_count": 63,
   "id": "bb2d307d-6aad-4213-b5f1-cf9609fa1a23",
   "metadata": {
    "tags": []
   },
   "outputs": [],
   "source": [
    "sel_cols=['sales_region','sold_to_party_district_name',\n",
    "       'billing_date', 'sold_to_party_code', 'bill_quantity']\n",
    "mb = sales1[sel_cols].copy()"
   ]
  },
  {
   "cell_type": "code",
   "execution_count": 64,
   "id": "b98faaac-ffef-4787-8467-64365a787c4d",
   "metadata": {
    "tags": []
   },
   "outputs": [],
   "source": [
    "mb['Year-Month'] = mb['billing_date'].dt.strftime('%Y-%m')"
   ]
  },
  {
   "cell_type": "code",
   "execution_count": 65,
   "id": "9f2005d3-ccfb-41ff-885b-d2e2fa64e9e9",
   "metadata": {
    "tags": []
   },
   "outputs": [],
   "source": [
    "mon_d = mb.groupby(['sales_region','sold_to_party_district_name', 'sold_to_party_code', 'Year-Month', 'billing_date'], as_index=False).apply(lambda group: pd.Series({\n",
    "    'Bill_Qty_Daily': group['bill_quantity'].sum()\n",
    "}))"
   ]
  },
  {
   "cell_type": "code",
   "execution_count": 66,
   "id": "c31d7ae7-c3e8-4743-9192-bddeff256d3a",
   "metadata": {
    "tags": []
   },
   "outputs": [],
   "source": [
    "mon_d.rename(columns={'sales_region': 'Sales_Region', 'sold_to_party_district_name':'District',\n",
    "                     'sold_to_party_code': 'Dealer_ID', 'billing_date':'Date'}, inplace=True)\n",
    "mon_d['District'] = mon_d['District'].str.upper()\n",
    "mon_d['Sales_Region'] = mon_d['Sales_Region'].str.upper()\n",
    "mon_d= mon_d[mon_d['Sales_Region']=='EAST'].copy()\n",
    "# mon_d.to_excel('East_Daily_Bill_Qty.xlsx')"
   ]
  },
  {
   "cell_type": "code",
   "execution_count": 67,
   "id": "64740db5-7b2f-4eba-be94-6fa6694364e2",
   "metadata": {
    "tags": []
   },
   "outputs": [],
   "source": [
    "mon = mb.groupby(['sales_region','sold_to_party_district_name', 'sold_to_party_code', 'Year-Month'], as_index=False).apply(lambda group: pd.Series({\n",
    "    'Bill_Qty_Monthly': group['bill_quantity'].sum()\n",
    "}))"
   ]
  },
  {
   "cell_type": "code",
   "execution_count": 68,
   "id": "2111faec-485f-421a-80eb-cb71ca3546ec",
   "metadata": {
    "tags": []
   },
   "outputs": [],
   "source": [
    "mon.rename(columns={'sales_region': 'Sales_Region', 'sold_to_party_district_name':'District',\n",
    "                     'sold_to_party_code': 'Dealer_ID'}, inplace=True)"
   ]
  },
  {
   "cell_type": "code",
   "execution_count": 69,
   "id": "a8823fa4-d004-4e7c-a6b0-4598141a9938",
   "metadata": {
    "tags": []
   },
   "outputs": [
    {
     "data": {
      "text/html": [
       "<div>\n",
       "<style scoped>\n",
       "    .dataframe tbody tr th:only-of-type {\n",
       "        vertical-align: middle;\n",
       "    }\n",
       "\n",
       "    .dataframe tbody tr th {\n",
       "        vertical-align: top;\n",
       "    }\n",
       "\n",
       "    .dataframe thead th {\n",
       "        text-align: right;\n",
       "    }\n",
       "</style>\n",
       "<table border=\"1\" class=\"dataframe\">\n",
       "  <thead>\n",
       "    <tr style=\"text-align: right;\">\n",
       "      <th></th>\n",
       "      <th>Sales_Region</th>\n",
       "      <th>District</th>\n",
       "      <th>Dealer_ID</th>\n",
       "      <th>Year-Month</th>\n",
       "      <th>Bill_Qty_Monthly</th>\n",
       "    </tr>\n",
       "  </thead>\n",
       "  <tbody>\n",
       "    <tr>\n",
       "      <th>0</th>\n",
       "      <td>East</td>\n",
       "      <td>24 PRAGANA NORTH</td>\n",
       "      <td>7001073</td>\n",
       "      <td>2022-04</td>\n",
       "      <td>52.00</td>\n",
       "    </tr>\n",
       "    <tr>\n",
       "      <th>1</th>\n",
       "      <td>East</td>\n",
       "      <td>24 PRAGANA NORTH</td>\n",
       "      <td>7001073</td>\n",
       "      <td>2022-05</td>\n",
       "      <td>32.00</td>\n",
       "    </tr>\n",
       "    <tr>\n",
       "      <th>2</th>\n",
       "      <td>East</td>\n",
       "      <td>24 PRAGANA NORTH</td>\n",
       "      <td>7001073</td>\n",
       "      <td>2022-06</td>\n",
       "      <td>70.00</td>\n",
       "    </tr>\n",
       "    <tr>\n",
       "      <th>3</th>\n",
       "      <td>East</td>\n",
       "      <td>24 PRAGANA NORTH</td>\n",
       "      <td>7001073</td>\n",
       "      <td>2022-07</td>\n",
       "      <td>50.25</td>\n",
       "    </tr>\n",
       "    <tr>\n",
       "      <th>4</th>\n",
       "      <td>East</td>\n",
       "      <td>24 PRAGANA NORTH</td>\n",
       "      <td>7001073</td>\n",
       "      <td>2022-08</td>\n",
       "      <td>36.00</td>\n",
       "    </tr>\n",
       "  </tbody>\n",
       "</table>\n",
       "</div>"
      ],
      "text/plain": [
       "  Sales_Region          District  Dealer_ID Year-Month  Bill_Qty_Monthly\n",
       "0         East  24 PRAGANA NORTH    7001073    2022-04             52.00\n",
       "1         East  24 PRAGANA NORTH    7001073    2022-05             32.00\n",
       "2         East  24 PRAGANA NORTH    7001073    2022-06             70.00\n",
       "3         East  24 PRAGANA NORTH    7001073    2022-07             50.25\n",
       "4         East  24 PRAGANA NORTH    7001073    2022-08             36.00"
      ]
     },
     "execution_count": 69,
     "metadata": {},
     "output_type": "execute_result"
    }
   ],
   "source": [
    "mon.head()"
   ]
  },
  {
   "cell_type": "code",
   "execution_count": 70,
   "id": "931255d4-74fb-468d-a266-368c5a2757fb",
   "metadata": {
    "tags": []
   },
   "outputs": [],
   "source": [
    "mon['District'] = mon['District'].str.upper()"
   ]
  },
  {
   "cell_type": "code",
   "execution_count": 71,
   "id": "ea0a3242-629e-4b95-932b-e37fb83ed8b4",
   "metadata": {
    "tags": []
   },
   "outputs": [],
   "source": [
    "mon['Sales_Region'] = mon['Sales_Region'].str.upper()"
   ]
  },
  {
   "cell_type": "code",
   "execution_count": 72,
   "id": "d4044b98-4e29-4a10-9290-2eeea4bdefda",
   "metadata": {
    "tags": []
   },
   "outputs": [
    {
     "data": {
      "text/plain": [
       "array(['EAST'], dtype=object)"
      ]
     },
     "execution_count": 72,
     "metadata": {},
     "output_type": "execute_result"
    }
   ],
   "source": [
    "mon['Sales_Region'].unique()"
   ]
  },
  {
   "cell_type": "code",
   "execution_count": 73,
   "id": "b2570aa7-ca9d-41d9-9d0e-a341823aaf3d",
   "metadata": {
    "tags": []
   },
   "outputs": [],
   "source": [
    "mon['Sales_Region'] = mon['Sales_Region'].replace('NORTH EAST', 'NE')\n",
    "mon['Sales_Region'] = mon['Sales_Region'].replace('NE', 'NORTHEAST')"
   ]
  },
  {
   "cell_type": "code",
   "execution_count": 74,
   "id": "39b9a6a8-7bf9-4fe4-9855-54123b00cd30",
   "metadata": {
    "tags": []
   },
   "outputs": [],
   "source": [
    "# mon1.to_excel('Sales_Monthly_Bill_Qty.xlsx')"
   ]
  },
  {
   "cell_type": "code",
   "execution_count": 75,
   "id": "b71834a6-8f09-4750-a2e4-b01fbd21f60c",
   "metadata": {
    "tags": []
   },
   "outputs": [
    {
     "data": {
      "text/html": [
       "<div>\n",
       "<style scoped>\n",
       "    .dataframe tbody tr th:only-of-type {\n",
       "        vertical-align: middle;\n",
       "    }\n",
       "\n",
       "    .dataframe tbody tr th {\n",
       "        vertical-align: top;\n",
       "    }\n",
       "\n",
       "    .dataframe thead th {\n",
       "        text-align: right;\n",
       "    }\n",
       "</style>\n",
       "<table border=\"1\" class=\"dataframe\">\n",
       "  <thead>\n",
       "    <tr style=\"text-align: right;\">\n",
       "      <th></th>\n",
       "      <th>Sales_Region</th>\n",
       "      <th>District</th>\n",
       "      <th>Dealer_ID</th>\n",
       "      <th>Year-Month</th>\n",
       "      <th>Bill_Qty_Monthly</th>\n",
       "    </tr>\n",
       "  </thead>\n",
       "  <tbody>\n",
       "  </tbody>\n",
       "</table>\n",
       "</div>"
      ],
      "text/plain": [
       "Empty DataFrame\n",
       "Columns: [Sales_Region, District, Dealer_ID, Year-Month, Bill_Qty_Monthly]\n",
       "Index: []"
      ]
     },
     "execution_count": 75,
     "metadata": {},
     "output_type": "execute_result"
    }
   ],
   "source": [
    "subset_columns = ['Sales_Region','District','Dealer_ID','Year-Month']\n",
    "duplicates = mon.duplicated(subset=subset_columns, keep=False)\n",
    "mon[duplicates]"
   ]
  },
  {
   "cell_type": "code",
   "execution_count": 76,
   "id": "c71fa7e2-91b8-4751-b5cb-f113d434739b",
   "metadata": {
    "tags": []
   },
   "outputs": [
    {
     "data": {
      "text/plain": [
       "array(['2022-04', '2022-05', '2022-06', '2022-07', '2022-08', '2022-09',\n",
       "       '2022-10', '2022-12', '2023-01', '2023-02', '2022-11', '2023-03'],\n",
       "      dtype=object)"
      ]
     },
     "execution_count": 76,
     "metadata": {},
     "output_type": "execute_result"
    }
   ],
   "source": [
    "mon['Year-Month'].unique()"
   ]
  },
  {
   "cell_type": "code",
   "execution_count": 77,
   "id": "6ed6bfd9-3fe8-4dfd-8ae6-5ea2bb0c40c5",
   "metadata": {
    "tags": []
   },
   "outputs": [],
   "source": [
    "mon['Year-Month'] = pd.to_datetime(mon['Year-Month'])\n",
    "mon['Month'] = mon['Year-Month'].dt.strftime('%m\\'%y')\n",
    "mon.drop(columns=['Year-Month'], inplace=True)"
   ]
  },
  {
   "cell_type": "code",
   "execution_count": 78,
   "id": "89d11936-233d-474d-9f15-7a3010599479",
   "metadata": {
    "tags": []
   },
   "outputs": [
    {
     "data": {
      "text/plain": [
       "array([\"04'22\", \"05'22\", \"06'22\", \"07'22\", \"08'22\", \"09'22\", \"10'22\",\n",
       "       \"12'22\", \"01'23\", \"02'23\", \"11'22\", \"03'23\"], dtype=object)"
      ]
     },
     "execution_count": 78,
     "metadata": {},
     "output_type": "execute_result"
    }
   ],
   "source": [
    "mon['Month'].unique()"
   ]
  },
  {
   "cell_type": "markdown",
   "id": "abd9a102-04a5-4c22-a318-9bbed698e011",
   "metadata": {},
   "source": [
    "#### Dealer Level"
   ]
  },
  {
   "cell_type": "code",
   "execution_count": 79,
   "id": "0453ff28-6db9-450a-b02d-17928b71e747",
   "metadata": {
    "tags": []
   },
   "outputs": [],
   "source": [
    "dle=pd.read_excel(path1+'/'+\"Dealer_Levels.xlsx\")"
   ]
  },
  {
   "cell_type": "code",
   "execution_count": 80,
   "id": "600c0b3f-cba6-45f1-9376-3fd9ad71e710",
   "metadata": {
    "tags": []
   },
   "outputs": [
    {
     "data": {
      "text/html": [
       "<div>\n",
       "<style scoped>\n",
       "    .dataframe tbody tr th:only-of-type {\n",
       "        vertical-align: middle;\n",
       "    }\n",
       "\n",
       "    .dataframe tbody tr th {\n",
       "        vertical-align: top;\n",
       "    }\n",
       "\n",
       "    .dataframe thead th {\n",
       "        text-align: right;\n",
       "    }\n",
       "</style>\n",
       "<table border=\"1\" class=\"dataframe\">\n",
       "  <thead>\n",
       "    <tr style=\"text-align: right;\">\n",
       "      <th></th>\n",
       "      <th>Unnamed: 0</th>\n",
       "      <th>Region</th>\n",
       "      <th>Cust Code</th>\n",
       "      <th>Customer Name</th>\n",
       "      <th>DOA</th>\n",
       "      <th>MOA</th>\n",
       "      <th>Zone</th>\n",
       "      <th>Tier</th>\n",
       "    </tr>\n",
       "  </thead>\n",
       "  <tbody>\n",
       "    <tr>\n",
       "      <th>0</th>\n",
       "      <td>0</td>\n",
       "      <td>EAST</td>\n",
       "      <td>7000001</td>\n",
       "      <td>KONARK CEMENT SUPPLY</td>\n",
       "      <td>2007-04-18</td>\n",
       "      <td>2007-04-01 00:00:00</td>\n",
       "      <td>ODC</td>\n",
       "      <td>No Tier</td>\n",
       "    </tr>\n",
       "    <tr>\n",
       "      <th>1</th>\n",
       "      <td>1</td>\n",
       "      <td>EAST</td>\n",
       "      <td>7000002</td>\n",
       "      <td>SWASTIK TRADERS</td>\n",
       "      <td>2007-04-20</td>\n",
       "      <td>2007-04-01 00:00:00</td>\n",
       "      <td>ODW</td>\n",
       "      <td>No Tier</td>\n",
       "    </tr>\n",
       "    <tr>\n",
       "      <th>2</th>\n",
       "      <td>2</td>\n",
       "      <td>EAST</td>\n",
       "      <td>7000003</td>\n",
       "      <td>JAISWAL CEMENT HOUSE</td>\n",
       "      <td>2007-04-20</td>\n",
       "      <td>2007-04-01 00:00:00</td>\n",
       "      <td>ODW</td>\n",
       "      <td>No Tier</td>\n",
       "    </tr>\n",
       "    <tr>\n",
       "      <th>3</th>\n",
       "      <td>3</td>\n",
       "      <td>EAST</td>\n",
       "      <td>7000004</td>\n",
       "      <td>SAHOO FERTILISERS</td>\n",
       "      <td>2007-05-10</td>\n",
       "      <td>2007-05-01 00:00:00</td>\n",
       "      <td>ODC</td>\n",
       "      <td>Bronze</td>\n",
       "    </tr>\n",
       "    <tr>\n",
       "      <th>4</th>\n",
       "      <td>4</td>\n",
       "      <td>EAST</td>\n",
       "      <td>7000005</td>\n",
       "      <td>MANORANJAN PANDA</td>\n",
       "      <td>2007-05-15</td>\n",
       "      <td>2007-05-01 00:00:00</td>\n",
       "      <td>ODC</td>\n",
       "      <td>No Tier</td>\n",
       "    </tr>\n",
       "  </tbody>\n",
       "</table>\n",
       "</div>"
      ],
      "text/plain": [
       "   Unnamed: 0 Region  Cust Code         Customer Name        DOA  \\\n",
       "0           0   EAST    7000001  KONARK CEMENT SUPPLY 2007-04-18   \n",
       "1           1   EAST    7000002       SWASTIK TRADERS 2007-04-20   \n",
       "2           2   EAST    7000003  JAISWAL CEMENT HOUSE 2007-04-20   \n",
       "3           3   EAST    7000004     SAHOO FERTILISERS 2007-05-10   \n",
       "4           4   EAST    7000005      MANORANJAN PANDA 2007-05-15   \n",
       "\n",
       "                   MOA Zone     Tier  \n",
       "0  2007-04-01 00:00:00  ODC  No Tier  \n",
       "1  2007-04-01 00:00:00  ODW  No Tier  \n",
       "2  2007-04-01 00:00:00  ODW  No Tier  \n",
       "3  2007-05-01 00:00:00  ODC   Bronze  \n",
       "4  2007-05-01 00:00:00  ODC  No Tier  "
      ]
     },
     "execution_count": 80,
     "metadata": {},
     "output_type": "execute_result"
    }
   ],
   "source": [
    "dle.head()"
   ]
  },
  {
   "cell_type": "code",
   "execution_count": 81,
   "id": "4f0cc382-28eb-4549-a8be-bc51b07171c4",
   "metadata": {
    "tags": []
   },
   "outputs": [
    {
     "data": {
      "text/plain": [
       "Index(['Unnamed: 0', 'Region', 'Cust Code', 'Customer Name', 'DOA', 'MOA',\n",
       "       'Zone', 'Tier'],\n",
       "      dtype='object')"
      ]
     },
     "execution_count": 81,
     "metadata": {},
     "output_type": "execute_result"
    }
   ],
   "source": [
    "dle.columns"
   ]
  },
  {
   "cell_type": "code",
   "execution_count": 82,
   "id": "df61c7a7-63cf-470f-8ba7-6559528ab892",
   "metadata": {},
   "outputs": [],
   "source": [
    "sel_cols=['Cust Code','Tier']\n",
    "dle1=dle[sel_cols].copy()\n",
    "dle1.rename(columns={'Cust Code':'Dealer_ID', 'Tier': 'Dealer_Level'}, inplace=True)"
   ]
  },
  {
   "cell_type": "code",
   "execution_count": 83,
   "id": "27f23d38-4c64-41db-a4de-2659bdd4f3d9",
   "metadata": {},
   "outputs": [],
   "source": [
    "# sel_cols = ['sold_to_party_district_name','sold_to_party_code','billing_date','bill_quantity','gross_bill_price']\n",
    "# dle=dle[sel_cols].copy()\n",
    "# dle.rename(columns={'sold_to_party_district_name': 'District','sold_to_party_code':'Dealer_ID'}, inplace=True)"
   ]
  },
  {
   "cell_type": "code",
   "execution_count": 84,
   "id": "405ff327-2cee-441f-a51c-db1c824a877f",
   "metadata": {},
   "outputs": [],
   "source": [
    "# dle1 = dle.groupby(['Dealer_ID'], as_index=False).apply(lambda group: pd.Series({\n",
    "# 'Volume': group['bill_quantity'].sum(), 'Sales': group['gross_bill_price'].sum(),\n",
    "# }))"
   ]
  },
  {
   "cell_type": "code",
   "execution_count": 85,
   "id": "383d3f98-a928-48be-964c-e7a92ba9ba58",
   "metadata": {},
   "outputs": [],
   "source": [
    "# dle1['Dealer_Level_Volume']='None'\n",
    "# dle1['Dealer_Level_Sales']='None'\n",
    "# dle1.loc[(dle1['Sales'] >= 10000000) & (dle1['Sales'] < 50000000), 'Dealer_Level_Sales'] = 'Medium'\n",
    "# dle1.loc[(dle1['Sales'] >= 50000000), 'Dealer_Level_Sales'] = 'Big'\n",
    "# dle1.loc[(dle1['Sales'] < 10000000), 'Dealer_Level_Sales'] = 'Small'\n",
    "# dle1.loc[(dle1['Volume'] >= 1500) & (dle1['Volume'] < 7000), 'Dealer_Level_Volume'] = 'Medium'\n",
    "# dle1.loc[(dle1['Volume'] >= 7000), 'Dealer_Level_Volume'] = 'Big'\n",
    "# dle1.loc[(dle1['Volume'] < 1500), 'Dealer_Level_Volume'] = 'Small'"
   ]
  },
  {
   "cell_type": "code",
   "execution_count": 86,
   "id": "d0591ca9-d156-41f2-bb49-3bcf94b899f0",
   "metadata": {},
   "outputs": [
    {
     "data": {
      "text/html": [
       "<div>\n",
       "<style scoped>\n",
       "    .dataframe tbody tr th:only-of-type {\n",
       "        vertical-align: middle;\n",
       "    }\n",
       "\n",
       "    .dataframe tbody tr th {\n",
       "        vertical-align: top;\n",
       "    }\n",
       "\n",
       "    .dataframe thead th {\n",
       "        text-align: right;\n",
       "    }\n",
       "</style>\n",
       "<table border=\"1\" class=\"dataframe\">\n",
       "  <thead>\n",
       "    <tr style=\"text-align: right;\">\n",
       "      <th></th>\n",
       "      <th>Dealer_ID</th>\n",
       "      <th>Dealer_Level</th>\n",
       "    </tr>\n",
       "  </thead>\n",
       "  <tbody>\n",
       "    <tr>\n",
       "      <th>34480</th>\n",
       "      <td>7037466</td>\n",
       "      <td>No Tier</td>\n",
       "    </tr>\n",
       "    <tr>\n",
       "      <th>34548</th>\n",
       "      <td>7037466</td>\n",
       "      <td>No Tier</td>\n",
       "    </tr>\n",
       "  </tbody>\n",
       "</table>\n",
       "</div>"
      ],
      "text/plain": [
       "       Dealer_ID Dealer_Level\n",
       "34480    7037466      No Tier\n",
       "34548    7037466      No Tier"
      ]
     },
     "execution_count": 86,
     "metadata": {},
     "output_type": "execute_result"
    }
   ],
   "source": [
    "subset_columns = ['Dealer_ID']\n",
    "duplicates = dle1.duplicated(subset=subset_columns, keep=False)\n",
    "dle1[duplicates]"
   ]
  },
  {
   "cell_type": "code",
   "execution_count": 87,
   "id": "de8c5bac-ee21-44ca-a73c-b82da61e95f3",
   "metadata": {},
   "outputs": [
    {
     "data": {
      "text/html": [
       "<div>\n",
       "<style scoped>\n",
       "    .dataframe tbody tr th:only-of-type {\n",
       "        vertical-align: middle;\n",
       "    }\n",
       "\n",
       "    .dataframe tbody tr th {\n",
       "        vertical-align: top;\n",
       "    }\n",
       "\n",
       "    .dataframe thead th {\n",
       "        text-align: right;\n",
       "    }\n",
       "</style>\n",
       "<table border=\"1\" class=\"dataframe\">\n",
       "  <thead>\n",
       "    <tr style=\"text-align: right;\">\n",
       "      <th></th>\n",
       "      <th>Dealer_ID</th>\n",
       "      <th>Dealer_Level</th>\n",
       "    </tr>\n",
       "  </thead>\n",
       "  <tbody>\n",
       "    <tr>\n",
       "      <th>0</th>\n",
       "      <td>7000001</td>\n",
       "      <td>No Tier</td>\n",
       "    </tr>\n",
       "    <tr>\n",
       "      <th>1</th>\n",
       "      <td>7000002</td>\n",
       "      <td>No Tier</td>\n",
       "    </tr>\n",
       "    <tr>\n",
       "      <th>2</th>\n",
       "      <td>7000003</td>\n",
       "      <td>No Tier</td>\n",
       "    </tr>\n",
       "    <tr>\n",
       "      <th>3</th>\n",
       "      <td>7000004</td>\n",
       "      <td>Bronze</td>\n",
       "    </tr>\n",
       "    <tr>\n",
       "      <th>4</th>\n",
       "      <td>7000005</td>\n",
       "      <td>No Tier</td>\n",
       "    </tr>\n",
       "  </tbody>\n",
       "</table>\n",
       "</div>"
      ],
      "text/plain": [
       "   Dealer_ID Dealer_Level\n",
       "0    7000001      No Tier\n",
       "1    7000002      No Tier\n",
       "2    7000003      No Tier\n",
       "3    7000004       Bronze\n",
       "4    7000005      No Tier"
      ]
     },
     "execution_count": 87,
     "metadata": {},
     "output_type": "execute_result"
    }
   ],
   "source": [
    "dle1.head()"
   ]
  },
  {
   "cell_type": "code",
   "execution_count": 88,
   "id": "e4dc0dba-7ae6-4bd0-9d77-c7698e41ecc5",
   "metadata": {
    "tags": []
   },
   "outputs": [
    {
     "data": {
      "text/plain": [
       "array(['No Tier', 'Bronze', 'Mercury', 'Silver', 'Gold', 'Platinum',\n",
       "       'Titanium'], dtype=object)"
      ]
     },
     "execution_count": 88,
     "metadata": {},
     "output_type": "execute_result"
    }
   ],
   "source": [
    "dle1['Dealer_Level'].unique()"
   ]
  },
  {
   "cell_type": "code",
   "execution_count": 89,
   "id": "4e023712-e785-4d52-aed5-d8a7b419165a",
   "metadata": {},
   "outputs": [],
   "source": [
    "dle1.drop_duplicates(inplace=True)"
   ]
  },
  {
   "cell_type": "code",
   "execution_count": 90,
   "id": "57aaeea8-167e-4ee7-998e-da0ae7b08054",
   "metadata": {},
   "outputs": [
    {
     "data": {
      "text/html": [
       "<div>\n",
       "<style scoped>\n",
       "    .dataframe tbody tr th:only-of-type {\n",
       "        vertical-align: middle;\n",
       "    }\n",
       "\n",
       "    .dataframe tbody tr th {\n",
       "        vertical-align: top;\n",
       "    }\n",
       "\n",
       "    .dataframe thead th {\n",
       "        text-align: right;\n",
       "    }\n",
       "</style>\n",
       "<table border=\"1\" class=\"dataframe\">\n",
       "  <thead>\n",
       "    <tr style=\"text-align: right;\">\n",
       "      <th></th>\n",
       "      <th>Sales_Region</th>\n",
       "      <th>District</th>\n",
       "      <th>Dealer_ID</th>\n",
       "      <th>Bill_Qty_Monthly</th>\n",
       "      <th>Month</th>\n",
       "    </tr>\n",
       "  </thead>\n",
       "  <tbody>\n",
       "    <tr>\n",
       "      <th>0</th>\n",
       "      <td>EAST</td>\n",
       "      <td>24 PRAGANA NORTH</td>\n",
       "      <td>7001073</td>\n",
       "      <td>52.00</td>\n",
       "      <td>04'22</td>\n",
       "    </tr>\n",
       "    <tr>\n",
       "      <th>1</th>\n",
       "      <td>EAST</td>\n",
       "      <td>24 PRAGANA NORTH</td>\n",
       "      <td>7001073</td>\n",
       "      <td>32.00</td>\n",
       "      <td>05'22</td>\n",
       "    </tr>\n",
       "    <tr>\n",
       "      <th>2</th>\n",
       "      <td>EAST</td>\n",
       "      <td>24 PRAGANA NORTH</td>\n",
       "      <td>7001073</td>\n",
       "      <td>70.00</td>\n",
       "      <td>06'22</td>\n",
       "    </tr>\n",
       "    <tr>\n",
       "      <th>3</th>\n",
       "      <td>EAST</td>\n",
       "      <td>24 PRAGANA NORTH</td>\n",
       "      <td>7001073</td>\n",
       "      <td>50.25</td>\n",
       "      <td>07'22</td>\n",
       "    </tr>\n",
       "    <tr>\n",
       "      <th>4</th>\n",
       "      <td>EAST</td>\n",
       "      <td>24 PRAGANA NORTH</td>\n",
       "      <td>7001073</td>\n",
       "      <td>36.00</td>\n",
       "      <td>08'22</td>\n",
       "    </tr>\n",
       "  </tbody>\n",
       "</table>\n",
       "</div>"
      ],
      "text/plain": [
       "  Sales_Region          District  Dealer_ID  Bill_Qty_Monthly  Month\n",
       "0         EAST  24 PRAGANA NORTH    7001073             52.00  04'22\n",
       "1         EAST  24 PRAGANA NORTH    7001073             32.00  05'22\n",
       "2         EAST  24 PRAGANA NORTH    7001073             70.00  06'22\n",
       "3         EAST  24 PRAGANA NORTH    7001073             50.25  07'22\n",
       "4         EAST  24 PRAGANA NORTH    7001073             36.00  08'22"
      ]
     },
     "execution_count": 90,
     "metadata": {},
     "output_type": "execute_result"
    }
   ],
   "source": [
    "mon.head()"
   ]
  },
  {
   "cell_type": "code",
   "execution_count": 91,
   "id": "bd55387f-d6f4-4fb0-a936-1976f21c5efe",
   "metadata": {},
   "outputs": [],
   "source": [
    "mon = pd.merge(mon,dle1, how='inner',left_on=['Dealer_ID'],right_on=['Dealer_ID'])"
   ]
  },
  {
   "cell_type": "code",
   "execution_count": 92,
   "id": "c85d287a-a57f-4010-ad63-b7aa4d571b54",
   "metadata": {
    "tags": []
   },
   "outputs": [
    {
     "data": {
      "text/html": [
       "<div>\n",
       "<style scoped>\n",
       "    .dataframe tbody tr th:only-of-type {\n",
       "        vertical-align: middle;\n",
       "    }\n",
       "\n",
       "    .dataframe tbody tr th {\n",
       "        vertical-align: top;\n",
       "    }\n",
       "\n",
       "    .dataframe thead th {\n",
       "        text-align: right;\n",
       "    }\n",
       "</style>\n",
       "<table border=\"1\" class=\"dataframe\">\n",
       "  <thead>\n",
       "    <tr style=\"text-align: right;\">\n",
       "      <th></th>\n",
       "      <th>Sales_Region</th>\n",
       "      <th>District</th>\n",
       "      <th>Dealer_ID</th>\n",
       "      <th>Bill_Qty_Monthly</th>\n",
       "      <th>Month</th>\n",
       "      <th>Dealer_Level</th>\n",
       "    </tr>\n",
       "  </thead>\n",
       "  <tbody>\n",
       "    <tr>\n",
       "      <th>0</th>\n",
       "      <td>EAST</td>\n",
       "      <td>24 PRAGANA NORTH</td>\n",
       "      <td>7001073</td>\n",
       "      <td>52.00</td>\n",
       "      <td>04'22</td>\n",
       "      <td>Titanium</td>\n",
       "    </tr>\n",
       "    <tr>\n",
       "      <th>1</th>\n",
       "      <td>EAST</td>\n",
       "      <td>24 PRAGANA NORTH</td>\n",
       "      <td>7001073</td>\n",
       "      <td>32.00</td>\n",
       "      <td>05'22</td>\n",
       "      <td>Titanium</td>\n",
       "    </tr>\n",
       "    <tr>\n",
       "      <th>2</th>\n",
       "      <td>EAST</td>\n",
       "      <td>24 PRAGANA NORTH</td>\n",
       "      <td>7001073</td>\n",
       "      <td>70.00</td>\n",
       "      <td>06'22</td>\n",
       "      <td>Titanium</td>\n",
       "    </tr>\n",
       "    <tr>\n",
       "      <th>3</th>\n",
       "      <td>EAST</td>\n",
       "      <td>24 PRAGANA NORTH</td>\n",
       "      <td>7001073</td>\n",
       "      <td>50.25</td>\n",
       "      <td>07'22</td>\n",
       "      <td>Titanium</td>\n",
       "    </tr>\n",
       "    <tr>\n",
       "      <th>4</th>\n",
       "      <td>EAST</td>\n",
       "      <td>24 PRAGANA NORTH</td>\n",
       "      <td>7001073</td>\n",
       "      <td>36.00</td>\n",
       "      <td>08'22</td>\n",
       "      <td>Titanium</td>\n",
       "    </tr>\n",
       "  </tbody>\n",
       "</table>\n",
       "</div>"
      ],
      "text/plain": [
       "  Sales_Region          District  Dealer_ID  Bill_Qty_Monthly  Month  \\\n",
       "0         EAST  24 PRAGANA NORTH    7001073             52.00  04'22   \n",
       "1         EAST  24 PRAGANA NORTH    7001073             32.00  05'22   \n",
       "2         EAST  24 PRAGANA NORTH    7001073             70.00  06'22   \n",
       "3         EAST  24 PRAGANA NORTH    7001073             50.25  07'22   \n",
       "4         EAST  24 PRAGANA NORTH    7001073             36.00  08'22   \n",
       "\n",
       "  Dealer_Level  \n",
       "0     Titanium  \n",
       "1     Titanium  \n",
       "2     Titanium  \n",
       "3     Titanium  \n",
       "4     Titanium  "
      ]
     },
     "execution_count": 92,
     "metadata": {},
     "output_type": "execute_result"
    }
   ],
   "source": [
    "mon.head()"
   ]
  },
  {
   "cell_type": "code",
   "execution_count": 93,
   "id": "c6ff3ef9-205e-4137-86fe-f7016ffcbb7d",
   "metadata": {
    "tags": []
   },
   "outputs": [
    {
     "data": {
      "text/plain": [
       "Index(['Sales_Region', 'District', 'Dealer_ID', 'Bill_Qty_Monthly', 'Month',\n",
       "       'Dealer_Level'],\n",
       "      dtype='object')"
      ]
     },
     "execution_count": 93,
     "metadata": {},
     "output_type": "execute_result"
    }
   ],
   "source": [
    "mon.columns"
   ]
  },
  {
   "cell_type": "code",
   "execution_count": 94,
   "id": "51064031-6fd8-4b82-9838-d9a23f93fc70",
   "metadata": {
    "tags": []
   },
   "outputs": [],
   "source": [
    "mon1 = mon.groupby(['Sales_Region', 'District','Month','Dealer_Level'], as_index=False).apply(lambda group: pd.Series({\n",
    "    'Total_Bill_Qty_Monthly': group['Bill_Qty_Monthly'].sum()\n",
    "}))"
   ]
  },
  {
   "cell_type": "code",
   "execution_count": 95,
   "id": "a6921a6c-aafa-4510-ad16-d8a930feb134",
   "metadata": {
    "tags": []
   },
   "outputs": [
    {
     "data": {
      "text/html": [
       "<div>\n",
       "<style scoped>\n",
       "    .dataframe tbody tr th:only-of-type {\n",
       "        vertical-align: middle;\n",
       "    }\n",
       "\n",
       "    .dataframe tbody tr th {\n",
       "        vertical-align: top;\n",
       "    }\n",
       "\n",
       "    .dataframe thead th {\n",
       "        text-align: right;\n",
       "    }\n",
       "</style>\n",
       "<table border=\"1\" class=\"dataframe\">\n",
       "  <thead>\n",
       "    <tr style=\"text-align: right;\">\n",
       "      <th></th>\n",
       "      <th>Sales_Region</th>\n",
       "      <th>District</th>\n",
       "      <th>Month</th>\n",
       "      <th>Dealer_Level</th>\n",
       "      <th>Total_Bill_Qty_Monthly</th>\n",
       "    </tr>\n",
       "  </thead>\n",
       "  <tbody>\n",
       "    <tr>\n",
       "      <th>0</th>\n",
       "      <td>EAST</td>\n",
       "      <td>24 PRAGANA NORTH</td>\n",
       "      <td>01'23</td>\n",
       "      <td>Bronze</td>\n",
       "      <td>39.65</td>\n",
       "    </tr>\n",
       "    <tr>\n",
       "      <th>1</th>\n",
       "      <td>EAST</td>\n",
       "      <td>24 PRAGANA NORTH</td>\n",
       "      <td>01'23</td>\n",
       "      <td>Gold</td>\n",
       "      <td>40.50</td>\n",
       "    </tr>\n",
       "    <tr>\n",
       "      <th>2</th>\n",
       "      <td>EAST</td>\n",
       "      <td>24 PRAGANA NORTH</td>\n",
       "      <td>01'23</td>\n",
       "      <td>Mercury</td>\n",
       "      <td>5.00</td>\n",
       "    </tr>\n",
       "    <tr>\n",
       "      <th>3</th>\n",
       "      <td>EAST</td>\n",
       "      <td>24 PRAGANA NORTH</td>\n",
       "      <td>01'23</td>\n",
       "      <td>No Tier</td>\n",
       "      <td>7.00</td>\n",
       "    </tr>\n",
       "    <tr>\n",
       "      <th>4</th>\n",
       "      <td>EAST</td>\n",
       "      <td>24 PRAGANA NORTH</td>\n",
       "      <td>01'23</td>\n",
       "      <td>Platinum</td>\n",
       "      <td>17.00</td>\n",
       "    </tr>\n",
       "  </tbody>\n",
       "</table>\n",
       "</div>"
      ],
      "text/plain": [
       "  Sales_Region          District  Month Dealer_Level  Total_Bill_Qty_Monthly\n",
       "0         EAST  24 PRAGANA NORTH  01'23       Bronze                   39.65\n",
       "1         EAST  24 PRAGANA NORTH  01'23         Gold                   40.50\n",
       "2         EAST  24 PRAGANA NORTH  01'23      Mercury                    5.00\n",
       "3         EAST  24 PRAGANA NORTH  01'23      No Tier                    7.00\n",
       "4         EAST  24 PRAGANA NORTH  01'23     Platinum                   17.00"
      ]
     },
     "execution_count": 95,
     "metadata": {},
     "output_type": "execute_result"
    }
   ],
   "source": [
    "mon1.head()"
   ]
  },
  {
   "cell_type": "code",
   "execution_count": 96,
   "id": "9d683762-0376-492a-80ff-38a50d0c87e1",
   "metadata": {
    "tags": []
   },
   "outputs": [],
   "source": [
    "mon= pd.merge(mon,mon1, how='inner',left_on=['Sales_Region', 'District','Month','Dealer_Level'],right_on=['Sales_Region', 'District','Month','Dealer_Level'])"
   ]
  },
  {
   "cell_type": "code",
   "execution_count": 97,
   "id": "6386f528-0ca9-4bcb-b55f-a87e350fccd2",
   "metadata": {
    "tags": []
   },
   "outputs": [
    {
     "data": {
      "text/html": [
       "<div>\n",
       "<style scoped>\n",
       "    .dataframe tbody tr th:only-of-type {\n",
       "        vertical-align: middle;\n",
       "    }\n",
       "\n",
       "    .dataframe tbody tr th {\n",
       "        vertical-align: top;\n",
       "    }\n",
       "\n",
       "    .dataframe thead th {\n",
       "        text-align: right;\n",
       "    }\n",
       "</style>\n",
       "<table border=\"1\" class=\"dataframe\">\n",
       "  <thead>\n",
       "    <tr style=\"text-align: right;\">\n",
       "      <th></th>\n",
       "      <th>Sales_Region</th>\n",
       "      <th>District</th>\n",
       "      <th>Dealer_ID</th>\n",
       "      <th>Bill_Qty_Monthly</th>\n",
       "      <th>Month</th>\n",
       "      <th>Dealer_Level</th>\n",
       "      <th>Total_Bill_Qty_Monthly</th>\n",
       "    </tr>\n",
       "  </thead>\n",
       "  <tbody>\n",
       "    <tr>\n",
       "      <th>0</th>\n",
       "      <td>EAST</td>\n",
       "      <td>24 PRAGANA NORTH</td>\n",
       "      <td>7001073</td>\n",
       "      <td>52.00</td>\n",
       "      <td>04'22</td>\n",
       "      <td>Titanium</td>\n",
       "      <td>172.75</td>\n",
       "    </tr>\n",
       "    <tr>\n",
       "      <th>1</th>\n",
       "      <td>EAST</td>\n",
       "      <td>24 PRAGANA NORTH</td>\n",
       "      <td>7001113</td>\n",
       "      <td>34.75</td>\n",
       "      <td>04'22</td>\n",
       "      <td>Titanium</td>\n",
       "      <td>172.75</td>\n",
       "    </tr>\n",
       "    <tr>\n",
       "      <th>2</th>\n",
       "      <td>EAST</td>\n",
       "      <td>24 PRAGANA NORTH</td>\n",
       "      <td>7001909</td>\n",
       "      <td>86.00</td>\n",
       "      <td>04'22</td>\n",
       "      <td>Titanium</td>\n",
       "      <td>172.75</td>\n",
       "    </tr>\n",
       "    <tr>\n",
       "      <th>3</th>\n",
       "      <td>EAST</td>\n",
       "      <td>24 PRAGANA NORTH</td>\n",
       "      <td>7001073</td>\n",
       "      <td>32.00</td>\n",
       "      <td>05'22</td>\n",
       "      <td>Titanium</td>\n",
       "      <td>217.85</td>\n",
       "    </tr>\n",
       "    <tr>\n",
       "      <th>4</th>\n",
       "      <td>EAST</td>\n",
       "      <td>24 PRAGANA NORTH</td>\n",
       "      <td>7001113</td>\n",
       "      <td>72.00</td>\n",
       "      <td>05'22</td>\n",
       "      <td>Titanium</td>\n",
       "      <td>217.85</td>\n",
       "    </tr>\n",
       "  </tbody>\n",
       "</table>\n",
       "</div>"
      ],
      "text/plain": [
       "  Sales_Region          District  Dealer_ID  Bill_Qty_Monthly  Month  \\\n",
       "0         EAST  24 PRAGANA NORTH    7001073             52.00  04'22   \n",
       "1         EAST  24 PRAGANA NORTH    7001113             34.75  04'22   \n",
       "2         EAST  24 PRAGANA NORTH    7001909             86.00  04'22   \n",
       "3         EAST  24 PRAGANA NORTH    7001073             32.00  05'22   \n",
       "4         EAST  24 PRAGANA NORTH    7001113             72.00  05'22   \n",
       "\n",
       "  Dealer_Level  Total_Bill_Qty_Monthly  \n",
       "0     Titanium                  172.75  \n",
       "1     Titanium                  172.75  \n",
       "2     Titanium                  172.75  \n",
       "3     Titanium                  217.85  \n",
       "4     Titanium                  217.85  "
      ]
     },
     "execution_count": 97,
     "metadata": {},
     "output_type": "execute_result"
    }
   ],
   "source": [
    "mon.head()"
   ]
  },
  {
   "cell_type": "markdown",
   "id": "631acb39-51e9-49d4-a025-9c4c499406d5",
   "metadata": {},
   "source": [
    "#### Merge Sales with Discount"
   ]
  },
  {
   "cell_type": "code",
   "execution_count": 98,
   "id": "70118452-b928-4d3a-bf32-af82e5904153",
   "metadata": {
    "tags": []
   },
   "outputs": [
    {
     "data": {
      "text/html": [
       "<div>\n",
       "<style scoped>\n",
       "    .dataframe tbody tr th:only-of-type {\n",
       "        vertical-align: middle;\n",
       "    }\n",
       "\n",
       "    .dataframe tbody tr th {\n",
       "        vertical-align: top;\n",
       "    }\n",
       "\n",
       "    .dataframe thead th {\n",
       "        text-align: right;\n",
       "    }\n",
       "</style>\n",
       "<table border=\"1\" class=\"dataframe\">\n",
       "  <thead>\n",
       "    <tr style=\"text-align: right;\">\n",
       "      <th></th>\n",
       "      <th>Sales_Region</th>\n",
       "      <th>District</th>\n",
       "      <th>Dealer_ID</th>\n",
       "      <th>Bill_Qty_Monthly</th>\n",
       "      <th>Month</th>\n",
       "      <th>Dealer_Level</th>\n",
       "      <th>Total_Bill_Qty_Monthly</th>\n",
       "    </tr>\n",
       "  </thead>\n",
       "  <tbody>\n",
       "    <tr>\n",
       "      <th>0</th>\n",
       "      <td>EAST</td>\n",
       "      <td>24 PRAGANA NORTH</td>\n",
       "      <td>7001073</td>\n",
       "      <td>52.00</td>\n",
       "      <td>04'22</td>\n",
       "      <td>Titanium</td>\n",
       "      <td>172.75</td>\n",
       "    </tr>\n",
       "    <tr>\n",
       "      <th>1</th>\n",
       "      <td>EAST</td>\n",
       "      <td>24 PRAGANA NORTH</td>\n",
       "      <td>7001113</td>\n",
       "      <td>34.75</td>\n",
       "      <td>04'22</td>\n",
       "      <td>Titanium</td>\n",
       "      <td>172.75</td>\n",
       "    </tr>\n",
       "    <tr>\n",
       "      <th>2</th>\n",
       "      <td>EAST</td>\n",
       "      <td>24 PRAGANA NORTH</td>\n",
       "      <td>7001909</td>\n",
       "      <td>86.00</td>\n",
       "      <td>04'22</td>\n",
       "      <td>Titanium</td>\n",
       "      <td>172.75</td>\n",
       "    </tr>\n",
       "    <tr>\n",
       "      <th>3</th>\n",
       "      <td>EAST</td>\n",
       "      <td>24 PRAGANA NORTH</td>\n",
       "      <td>7001073</td>\n",
       "      <td>32.00</td>\n",
       "      <td>05'22</td>\n",
       "      <td>Titanium</td>\n",
       "      <td>217.85</td>\n",
       "    </tr>\n",
       "    <tr>\n",
       "      <th>4</th>\n",
       "      <td>EAST</td>\n",
       "      <td>24 PRAGANA NORTH</td>\n",
       "      <td>7001113</td>\n",
       "      <td>72.00</td>\n",
       "      <td>05'22</td>\n",
       "      <td>Titanium</td>\n",
       "      <td>217.85</td>\n",
       "    </tr>\n",
       "  </tbody>\n",
       "</table>\n",
       "</div>"
      ],
      "text/plain": [
       "  Sales_Region          District  Dealer_ID  Bill_Qty_Monthly  Month  \\\n",
       "0         EAST  24 PRAGANA NORTH    7001073             52.00  04'22   \n",
       "1         EAST  24 PRAGANA NORTH    7001113             34.75  04'22   \n",
       "2         EAST  24 PRAGANA NORTH    7001909             86.00  04'22   \n",
       "3         EAST  24 PRAGANA NORTH    7001073             32.00  05'22   \n",
       "4         EAST  24 PRAGANA NORTH    7001113             72.00  05'22   \n",
       "\n",
       "  Dealer_Level  Total_Bill_Qty_Monthly  \n",
       "0     Titanium                  172.75  \n",
       "1     Titanium                  172.75  \n",
       "2     Titanium                  172.75  \n",
       "3     Titanium                  217.85  \n",
       "4     Titanium                  217.85  "
      ]
     },
     "execution_count": 98,
     "metadata": {},
     "output_type": "execute_result"
    }
   ],
   "source": [
    "mon.head()"
   ]
  },
  {
   "cell_type": "code",
   "execution_count": 99,
   "id": "23f9e537-da18-432f-8611-69273431cf13",
   "metadata": {
    "tags": []
   },
   "outputs": [
    {
     "data": {
      "text/html": [
       "<div>\n",
       "<style scoped>\n",
       "    .dataframe tbody tr th:only-of-type {\n",
       "        vertical-align: middle;\n",
       "    }\n",
       "\n",
       "    .dataframe tbody tr th {\n",
       "        vertical-align: top;\n",
       "    }\n",
       "\n",
       "    .dataframe thead th {\n",
       "        text-align: right;\n",
       "    }\n",
       "</style>\n",
       "<table border=\"1\" class=\"dataframe\">\n",
       "  <thead>\n",
       "    <tr style=\"text-align: right;\">\n",
       "      <th></th>\n",
       "      <th>Unnamed: 0.1</th>\n",
       "      <th>Sales_Region</th>\n",
       "      <th>Dealer_ID</th>\n",
       "      <th>Month</th>\n",
       "      <th>Discount</th>\n",
       "      <th>Total_Discount</th>\n",
       "      <th>Price_Support</th>\n",
       "    </tr>\n",
       "  </thead>\n",
       "  <tbody>\n",
       "    <tr>\n",
       "      <th>0</th>\n",
       "      <td>3384</td>\n",
       "      <td>EAST</td>\n",
       "      <td>7000607</td>\n",
       "      <td>10'22</td>\n",
       "      <td>23563.750000</td>\n",
       "      <td>23563.750000</td>\n",
       "      <td>0.00</td>\n",
       "    </tr>\n",
       "    <tr>\n",
       "      <th>1</th>\n",
       "      <td>13938</td>\n",
       "      <td>EAST</td>\n",
       "      <td>7011361</td>\n",
       "      <td>08'22</td>\n",
       "      <td>294141.625000</td>\n",
       "      <td>419579.065000</td>\n",
       "      <td>125437.44</td>\n",
       "    </tr>\n",
       "    <tr>\n",
       "      <th>2</th>\n",
       "      <td>21845</td>\n",
       "      <td>EAST</td>\n",
       "      <td>7024545</td>\n",
       "      <td>09'22</td>\n",
       "      <td>881.770833</td>\n",
       "      <td>881.770833</td>\n",
       "      <td>0.00</td>\n",
       "    </tr>\n",
       "    <tr>\n",
       "      <th>3</th>\n",
       "      <td>43336</td>\n",
       "      <td>EAST</td>\n",
       "      <td>7036186</td>\n",
       "      <td>07'22</td>\n",
       "      <td>7673.645833</td>\n",
       "      <td>14392.365833</td>\n",
       "      <td>6718.72</td>\n",
       "    </tr>\n",
       "    <tr>\n",
       "      <th>4</th>\n",
       "      <td>36171</td>\n",
       "      <td>EAST</td>\n",
       "      <td>7033203</td>\n",
       "      <td>08'22</td>\n",
       "      <td>20609.166667</td>\n",
       "      <td>44827.906667</td>\n",
       "      <td>24218.74</td>\n",
       "    </tr>\n",
       "  </tbody>\n",
       "</table>\n",
       "</div>"
      ],
      "text/plain": [
       "   Unnamed: 0.1 Sales_Region  Dealer_ID  Month       Discount  Total_Discount  \\\n",
       "0          3384         EAST    7000607  10'22   23563.750000    23563.750000   \n",
       "1         13938         EAST    7011361  08'22  294141.625000   419579.065000   \n",
       "2         21845         EAST    7024545  09'22     881.770833      881.770833   \n",
       "3         43336         EAST    7036186  07'22    7673.645833    14392.365833   \n",
       "4         36171         EAST    7033203  08'22   20609.166667    44827.906667   \n",
       "\n",
       "   Price_Support  \n",
       "0           0.00  \n",
       "1      125437.44  \n",
       "2           0.00  \n",
       "3        6718.72  \n",
       "4       24218.74  "
      ]
     },
     "execution_count": 99,
     "metadata": {},
     "output_type": "execute_result"
    }
   ],
   "source": [
    "disc.head()"
   ]
  },
  {
   "cell_type": "code",
   "execution_count": 100,
   "id": "d5501b0e-1613-4ecd-9698-bb6a2194033e",
   "metadata": {
    "tags": []
   },
   "outputs": [
    {
     "data": {
      "text/plain": [
       "array(['EAST'], dtype=object)"
      ]
     },
     "execution_count": 100,
     "metadata": {},
     "output_type": "execute_result"
    }
   ],
   "source": [
    "disc['Sales_Region'].unique()"
   ]
  },
  {
   "cell_type": "code",
   "execution_count": 101,
   "id": "56d24383-1909-4af4-a995-4ef87eaf2ec4",
   "metadata": {
    "tags": []
   },
   "outputs": [],
   "source": [
    "dis_m = pd.merge(mon,disc, how='inner',left_on=['Sales_Region','Dealer_ID','Month'],right_on=['Sales_Region','Dealer_ID','Month'])"
   ]
  },
  {
   "cell_type": "code",
   "execution_count": 102,
   "id": "1613a7e2-2279-41d6-8b18-9893d3c9c226",
   "metadata": {
    "tags": []
   },
   "outputs": [
    {
     "data": {
      "text/html": [
       "<div>\n",
       "<style scoped>\n",
       "    .dataframe tbody tr th:only-of-type {\n",
       "        vertical-align: middle;\n",
       "    }\n",
       "\n",
       "    .dataframe tbody tr th {\n",
       "        vertical-align: top;\n",
       "    }\n",
       "\n",
       "    .dataframe thead th {\n",
       "        text-align: right;\n",
       "    }\n",
       "</style>\n",
       "<table border=\"1\" class=\"dataframe\">\n",
       "  <thead>\n",
       "    <tr style=\"text-align: right;\">\n",
       "      <th></th>\n",
       "      <th>Sales_Region</th>\n",
       "      <th>District</th>\n",
       "      <th>Dealer_ID</th>\n",
       "      <th>Bill_Qty_Monthly</th>\n",
       "      <th>Month</th>\n",
       "      <th>Dealer_Level</th>\n",
       "      <th>Total_Bill_Qty_Monthly</th>\n",
       "      <th>Unnamed: 0.1</th>\n",
       "      <th>Discount</th>\n",
       "      <th>Total_Discount</th>\n",
       "      <th>Price_Support</th>\n",
       "    </tr>\n",
       "  </thead>\n",
       "  <tbody>\n",
       "    <tr>\n",
       "      <th>0</th>\n",
       "      <td>EAST</td>\n",
       "      <td>24 PRAGANA NORTH</td>\n",
       "      <td>7001073</td>\n",
       "      <td>50.25</td>\n",
       "      <td>07'22</td>\n",
       "      <td>Titanium</td>\n",
       "      <td>229.75</td>\n",
       "      <td>5185</td>\n",
       "      <td>283752.173800</td>\n",
       "      <td>4.351388e+05</td>\n",
       "      <td>151386.6</td>\n",
       "    </tr>\n",
       "    <tr>\n",
       "      <th>1</th>\n",
       "      <td>EAST</td>\n",
       "      <td>24 PRAGANA NORTH</td>\n",
       "      <td>7001113</td>\n",
       "      <td>38.00</td>\n",
       "      <td>10'22</td>\n",
       "      <td>Titanium</td>\n",
       "      <td>151.85</td>\n",
       "      <td>5278</td>\n",
       "      <td>457510.833333</td>\n",
       "      <td>4.575108e+05</td>\n",
       "      <td>0.0</td>\n",
       "    </tr>\n",
       "    <tr>\n",
       "      <th>2</th>\n",
       "      <td>EAST</td>\n",
       "      <td>24 PRAGANA NORTH</td>\n",
       "      <td>7037681</td>\n",
       "      <td>53.00</td>\n",
       "      <td>12'22</td>\n",
       "      <td>Titanium</td>\n",
       "      <td>247.25</td>\n",
       "      <td>48167</td>\n",
       "      <td>347303.879167</td>\n",
       "      <td>5.838439e+05</td>\n",
       "      <td>236540.0</td>\n",
       "    </tr>\n",
       "    <tr>\n",
       "      <th>3</th>\n",
       "      <td>EAST</td>\n",
       "      <td>24 PRAGANA NORTH</td>\n",
       "      <td>7001073</td>\n",
       "      <td>35.50</td>\n",
       "      <td>02'23</td>\n",
       "      <td>Titanium</td>\n",
       "      <td>269.00</td>\n",
       "      <td>5180</td>\n",
       "      <td>157584.383333</td>\n",
       "      <td>3.404584e+05</td>\n",
       "      <td>182874.0</td>\n",
       "    </tr>\n",
       "    <tr>\n",
       "      <th>4</th>\n",
       "      <td>EAST</td>\n",
       "      <td>24 PRAGANA NORTH</td>\n",
       "      <td>7001909</td>\n",
       "      <td>124.50</td>\n",
       "      <td>02'23</td>\n",
       "      <td>Titanium</td>\n",
       "      <td>269.00</td>\n",
       "      <td>6957</td>\n",
       "      <td>829819.385467</td>\n",
       "      <td>1.534209e+06</td>\n",
       "      <td>704390.0</td>\n",
       "    </tr>\n",
       "  </tbody>\n",
       "</table>\n",
       "</div>"
      ],
      "text/plain": [
       "  Sales_Region          District  Dealer_ID  Bill_Qty_Monthly  Month  \\\n",
       "0         EAST  24 PRAGANA NORTH    7001073             50.25  07'22   \n",
       "1         EAST  24 PRAGANA NORTH    7001113             38.00  10'22   \n",
       "2         EAST  24 PRAGANA NORTH    7037681             53.00  12'22   \n",
       "3         EAST  24 PRAGANA NORTH    7001073             35.50  02'23   \n",
       "4         EAST  24 PRAGANA NORTH    7001909            124.50  02'23   \n",
       "\n",
       "  Dealer_Level  Total_Bill_Qty_Monthly  Unnamed: 0.1       Discount  \\\n",
       "0     Titanium                  229.75          5185  283752.173800   \n",
       "1     Titanium                  151.85          5278  457510.833333   \n",
       "2     Titanium                  247.25         48167  347303.879167   \n",
       "3     Titanium                  269.00          5180  157584.383333   \n",
       "4     Titanium                  269.00          6957  829819.385467   \n",
       "\n",
       "   Total_Discount  Price_Support  \n",
       "0    4.351388e+05       151386.6  \n",
       "1    4.575108e+05            0.0  \n",
       "2    5.838439e+05       236540.0  \n",
       "3    3.404584e+05       182874.0  \n",
       "4    1.534209e+06       704390.0  "
      ]
     },
     "execution_count": 102,
     "metadata": {},
     "output_type": "execute_result"
    }
   ],
   "source": [
    "dis_m.head()"
   ]
  },
  {
   "cell_type": "code",
   "execution_count": 103,
   "id": "1661e2de-5936-4bc2-bf61-e4eac7fe525b",
   "metadata": {
    "tags": []
   },
   "outputs": [],
   "source": [
    "dis_m['Discount/Bag']=(dis_m['Discount']/dis_m['Bill_Qty_Monthly'])/20\n",
    "dis_m['Total_Discount/Bag']=(dis_m['Total_Discount']/dis_m['Bill_Qty_Monthly'])/20\n",
    "dis_m['Price_Support/Bag']=(dis_m['Price_Support']/dis_m['Bill_Qty_Monthly'])/20"
   ]
  },
  {
   "cell_type": "code",
   "execution_count": 104,
   "id": "37f43b0b-eb44-4bda-8cb4-2c3a4f0fc375",
   "metadata": {
    "tags": []
   },
   "outputs": [
    {
     "data": {
      "text/html": [
       "<div>\n",
       "<style scoped>\n",
       "    .dataframe tbody tr th:only-of-type {\n",
       "        vertical-align: middle;\n",
       "    }\n",
       "\n",
       "    .dataframe tbody tr th {\n",
       "        vertical-align: top;\n",
       "    }\n",
       "\n",
       "    .dataframe thead th {\n",
       "        text-align: right;\n",
       "    }\n",
       "</style>\n",
       "<table border=\"1\" class=\"dataframe\">\n",
       "  <thead>\n",
       "    <tr style=\"text-align: right;\">\n",
       "      <th></th>\n",
       "      <th>Sales_Region</th>\n",
       "      <th>District</th>\n",
       "      <th>Dealer_ID</th>\n",
       "      <th>Bill_Qty_Monthly</th>\n",
       "      <th>Month</th>\n",
       "      <th>Dealer_Level</th>\n",
       "      <th>Total_Bill_Qty_Monthly</th>\n",
       "      <th>Unnamed: 0.1</th>\n",
       "      <th>Discount</th>\n",
       "      <th>Total_Discount</th>\n",
       "      <th>Price_Support</th>\n",
       "      <th>Discount/Bag</th>\n",
       "      <th>Total_Discount/Bag</th>\n",
       "      <th>Price_Support/Bag</th>\n",
       "    </tr>\n",
       "  </thead>\n",
       "  <tbody>\n",
       "    <tr>\n",
       "      <th>0</th>\n",
       "      <td>EAST</td>\n",
       "      <td>24 PRAGANA NORTH</td>\n",
       "      <td>7001073</td>\n",
       "      <td>50.25</td>\n",
       "      <td>07'22</td>\n",
       "      <td>Titanium</td>\n",
       "      <td>229.75</td>\n",
       "      <td>5185</td>\n",
       "      <td>283752.173800</td>\n",
       "      <td>4.351388e+05</td>\n",
       "      <td>151386.6</td>\n",
       "      <td>282.340471</td>\n",
       "      <td>432.973904</td>\n",
       "      <td>150.633433</td>\n",
       "    </tr>\n",
       "    <tr>\n",
       "      <th>1</th>\n",
       "      <td>EAST</td>\n",
       "      <td>24 PRAGANA NORTH</td>\n",
       "      <td>7001113</td>\n",
       "      <td>38.00</td>\n",
       "      <td>10'22</td>\n",
       "      <td>Titanium</td>\n",
       "      <td>151.85</td>\n",
       "      <td>5278</td>\n",
       "      <td>457510.833333</td>\n",
       "      <td>4.575108e+05</td>\n",
       "      <td>0.0</td>\n",
       "      <td>601.987939</td>\n",
       "      <td>601.987939</td>\n",
       "      <td>0.000000</td>\n",
       "    </tr>\n",
       "    <tr>\n",
       "      <th>2</th>\n",
       "      <td>EAST</td>\n",
       "      <td>24 PRAGANA NORTH</td>\n",
       "      <td>7037681</td>\n",
       "      <td>53.00</td>\n",
       "      <td>12'22</td>\n",
       "      <td>Titanium</td>\n",
       "      <td>247.25</td>\n",
       "      <td>48167</td>\n",
       "      <td>347303.879167</td>\n",
       "      <td>5.838439e+05</td>\n",
       "      <td>236540.0</td>\n",
       "      <td>327.645169</td>\n",
       "      <td>550.796112</td>\n",
       "      <td>223.150943</td>\n",
       "    </tr>\n",
       "    <tr>\n",
       "      <th>3</th>\n",
       "      <td>EAST</td>\n",
       "      <td>24 PRAGANA NORTH</td>\n",
       "      <td>7001073</td>\n",
       "      <td>35.50</td>\n",
       "      <td>02'23</td>\n",
       "      <td>Titanium</td>\n",
       "      <td>269.00</td>\n",
       "      <td>5180</td>\n",
       "      <td>157584.383333</td>\n",
       "      <td>3.404584e+05</td>\n",
       "      <td>182874.0</td>\n",
       "      <td>221.949836</td>\n",
       "      <td>479.518850</td>\n",
       "      <td>257.569014</td>\n",
       "    </tr>\n",
       "    <tr>\n",
       "      <th>4</th>\n",
       "      <td>EAST</td>\n",
       "      <td>24 PRAGANA NORTH</td>\n",
       "      <td>7001909</td>\n",
       "      <td>124.50</td>\n",
       "      <td>02'23</td>\n",
       "      <td>Titanium</td>\n",
       "      <td>269.00</td>\n",
       "      <td>6957</td>\n",
       "      <td>829819.385467</td>\n",
       "      <td>1.534209e+06</td>\n",
       "      <td>704390.0</td>\n",
       "      <td>333.260797</td>\n",
       "      <td>616.148348</td>\n",
       "      <td>282.887550</td>\n",
       "    </tr>\n",
       "  </tbody>\n",
       "</table>\n",
       "</div>"
      ],
      "text/plain": [
       "  Sales_Region          District  Dealer_ID  Bill_Qty_Monthly  Month  \\\n",
       "0         EAST  24 PRAGANA NORTH    7001073             50.25  07'22   \n",
       "1         EAST  24 PRAGANA NORTH    7001113             38.00  10'22   \n",
       "2         EAST  24 PRAGANA NORTH    7037681             53.00  12'22   \n",
       "3         EAST  24 PRAGANA NORTH    7001073             35.50  02'23   \n",
       "4         EAST  24 PRAGANA NORTH    7001909            124.50  02'23   \n",
       "\n",
       "  Dealer_Level  Total_Bill_Qty_Monthly  Unnamed: 0.1       Discount  \\\n",
       "0     Titanium                  229.75          5185  283752.173800   \n",
       "1     Titanium                  151.85          5278  457510.833333   \n",
       "2     Titanium                  247.25         48167  347303.879167   \n",
       "3     Titanium                  269.00          5180  157584.383333   \n",
       "4     Titanium                  269.00          6957  829819.385467   \n",
       "\n",
       "   Total_Discount  Price_Support  Discount/Bag  Total_Discount/Bag  \\\n",
       "0    4.351388e+05       151386.6    282.340471          432.973904   \n",
       "1    4.575108e+05            0.0    601.987939          601.987939   \n",
       "2    5.838439e+05       236540.0    327.645169          550.796112   \n",
       "3    3.404584e+05       182874.0    221.949836          479.518850   \n",
       "4    1.534209e+06       704390.0    333.260797          616.148348   \n",
       "\n",
       "   Price_Support/Bag  \n",
       "0         150.633433  \n",
       "1           0.000000  \n",
       "2         223.150943  \n",
       "3         257.569014  \n",
       "4         282.887550  "
      ]
     },
     "execution_count": 104,
     "metadata": {},
     "output_type": "execute_result"
    }
   ],
   "source": [
    "dis_m.head()"
   ]
  },
  {
   "cell_type": "code",
   "execution_count": 105,
   "id": "754d5385-2354-415e-b57c-eb98fd98faeb",
   "metadata": {
    "tags": []
   },
   "outputs": [
    {
     "data": {
      "text/html": [
       "<div>\n",
       "<style scoped>\n",
       "    .dataframe tbody tr th:only-of-type {\n",
       "        vertical-align: middle;\n",
       "    }\n",
       "\n",
       "    .dataframe tbody tr th {\n",
       "        vertical-align: top;\n",
       "    }\n",
       "\n",
       "    .dataframe thead th {\n",
       "        text-align: right;\n",
       "    }\n",
       "</style>\n",
       "<table border=\"1\" class=\"dataframe\">\n",
       "  <thead>\n",
       "    <tr style=\"text-align: right;\">\n",
       "      <th></th>\n",
       "      <th>Sales_Region</th>\n",
       "      <th>District</th>\n",
       "      <th>Dealer_ID</th>\n",
       "      <th>Bill_Qty_Monthly</th>\n",
       "      <th>Month</th>\n",
       "      <th>Dealer_Level</th>\n",
       "      <th>Total_Bill_Qty_Monthly</th>\n",
       "      <th>Unnamed: 0.1</th>\n",
       "      <th>Discount</th>\n",
       "      <th>Total_Discount</th>\n",
       "      <th>Price_Support</th>\n",
       "      <th>Discount/Bag</th>\n",
       "      <th>Total_Discount/Bag</th>\n",
       "      <th>Price_Support/Bag</th>\n",
       "    </tr>\n",
       "  </thead>\n",
       "  <tbody>\n",
       "  </tbody>\n",
       "</table>\n",
       "</div>"
      ],
      "text/plain": [
       "Empty DataFrame\n",
       "Columns: [Sales_Region, District, Dealer_ID, Bill_Qty_Monthly, Month, Dealer_Level, Total_Bill_Qty_Monthly, Unnamed: 0.1, Discount, Total_Discount, Price_Support, Discount/Bag, Total_Discount/Bag, Price_Support/Bag]\n",
       "Index: []"
      ]
     },
     "execution_count": 105,
     "metadata": {},
     "output_type": "execute_result"
    }
   ],
   "source": [
    "dis_m[dis_m.duplicated()]"
   ]
  },
  {
   "cell_type": "code",
   "execution_count": 106,
   "id": "a18c42b9-e05b-4a36-9f5c-7027ddc56ce1",
   "metadata": {
    "tags": []
   },
   "outputs": [
    {
     "data": {
      "text/html": [
       "<div>\n",
       "<style scoped>\n",
       "    .dataframe tbody tr th:only-of-type {\n",
       "        vertical-align: middle;\n",
       "    }\n",
       "\n",
       "    .dataframe tbody tr th {\n",
       "        vertical-align: top;\n",
       "    }\n",
       "\n",
       "    .dataframe thead th {\n",
       "        text-align: right;\n",
       "    }\n",
       "</style>\n",
       "<table border=\"1\" class=\"dataframe\">\n",
       "  <thead>\n",
       "    <tr style=\"text-align: right;\">\n",
       "      <th></th>\n",
       "      <th>Sales_Region</th>\n",
       "      <th>District</th>\n",
       "      <th>Dealer_ID</th>\n",
       "      <th>Bill_Qty_Monthly</th>\n",
       "      <th>Month</th>\n",
       "      <th>Dealer_Level</th>\n",
       "      <th>Total_Bill_Qty_Monthly</th>\n",
       "      <th>Unnamed: 0.1</th>\n",
       "      <th>Discount</th>\n",
       "      <th>Total_Discount</th>\n",
       "      <th>Price_Support</th>\n",
       "      <th>Discount/Bag</th>\n",
       "      <th>Total_Discount/Bag</th>\n",
       "      <th>Price_Support/Bag</th>\n",
       "    </tr>\n",
       "  </thead>\n",
       "  <tbody>\n",
       "  </tbody>\n",
       "</table>\n",
       "</div>"
      ],
      "text/plain": [
       "Empty DataFrame\n",
       "Columns: [Sales_Region, District, Dealer_ID, Bill_Qty_Monthly, Month, Dealer_Level, Total_Bill_Qty_Monthly, Unnamed: 0.1, Discount, Total_Discount, Price_Support, Discount/Bag, Total_Discount/Bag, Price_Support/Bag]\n",
       "Index: []"
      ]
     },
     "execution_count": 106,
     "metadata": {},
     "output_type": "execute_result"
    }
   ],
   "source": [
    "subset_columns = ['Sales_Region', 'District', 'Dealer_ID','Month']\n",
    "duplicates = dis_m.duplicated(subset=subset_columns, keep=False)\n",
    "dis_m[duplicates]"
   ]
  },
  {
   "cell_type": "code",
   "execution_count": 107,
   "id": "11b40f05-7d53-4cfd-bb54-5888f35c247b",
   "metadata": {
    "tags": []
   },
   "outputs": [],
   "source": [
    "dis_m['District'] = dis_m['District'].str.upper()"
   ]
  },
  {
   "cell_type": "code",
   "execution_count": 108,
   "id": "24a15932-da14-455c-acc5-3eac564685da",
   "metadata": {
    "tags": []
   },
   "outputs": [
    {
     "data": {
      "text/html": [
       "<div>\n",
       "<style scoped>\n",
       "    .dataframe tbody tr th:only-of-type {\n",
       "        vertical-align: middle;\n",
       "    }\n",
       "\n",
       "    .dataframe tbody tr th {\n",
       "        vertical-align: top;\n",
       "    }\n",
       "\n",
       "    .dataframe thead th {\n",
       "        text-align: right;\n",
       "    }\n",
       "</style>\n",
       "<table border=\"1\" class=\"dataframe\">\n",
       "  <thead>\n",
       "    <tr style=\"text-align: right;\">\n",
       "      <th></th>\n",
       "      <th>Sales_Region</th>\n",
       "      <th>District</th>\n",
       "      <th>Dealer_ID</th>\n",
       "      <th>Bill_Qty_Monthly</th>\n",
       "      <th>Month</th>\n",
       "      <th>Dealer_Level</th>\n",
       "      <th>Total_Bill_Qty_Monthly</th>\n",
       "      <th>Unnamed: 0.1</th>\n",
       "      <th>Discount</th>\n",
       "      <th>Total_Discount</th>\n",
       "      <th>Price_Support</th>\n",
       "      <th>Discount/Bag</th>\n",
       "      <th>Total_Discount/Bag</th>\n",
       "      <th>Price_Support/Bag</th>\n",
       "    </tr>\n",
       "  </thead>\n",
       "  <tbody>\n",
       "    <tr>\n",
       "      <th>0</th>\n",
       "      <td>EAST</td>\n",
       "      <td>24 PRAGANA NORTH</td>\n",
       "      <td>7001073</td>\n",
       "      <td>50.25</td>\n",
       "      <td>07'22</td>\n",
       "      <td>Titanium</td>\n",
       "      <td>229.75</td>\n",
       "      <td>5185</td>\n",
       "      <td>283752.173800</td>\n",
       "      <td>4.351388e+05</td>\n",
       "      <td>151386.6</td>\n",
       "      <td>282.340471</td>\n",
       "      <td>432.973904</td>\n",
       "      <td>150.633433</td>\n",
       "    </tr>\n",
       "    <tr>\n",
       "      <th>1</th>\n",
       "      <td>EAST</td>\n",
       "      <td>24 PRAGANA NORTH</td>\n",
       "      <td>7001113</td>\n",
       "      <td>38.00</td>\n",
       "      <td>10'22</td>\n",
       "      <td>Titanium</td>\n",
       "      <td>151.85</td>\n",
       "      <td>5278</td>\n",
       "      <td>457510.833333</td>\n",
       "      <td>4.575108e+05</td>\n",
       "      <td>0.0</td>\n",
       "      <td>601.987939</td>\n",
       "      <td>601.987939</td>\n",
       "      <td>0.000000</td>\n",
       "    </tr>\n",
       "    <tr>\n",
       "      <th>2</th>\n",
       "      <td>EAST</td>\n",
       "      <td>24 PRAGANA NORTH</td>\n",
       "      <td>7037681</td>\n",
       "      <td>53.00</td>\n",
       "      <td>12'22</td>\n",
       "      <td>Titanium</td>\n",
       "      <td>247.25</td>\n",
       "      <td>48167</td>\n",
       "      <td>347303.879167</td>\n",
       "      <td>5.838439e+05</td>\n",
       "      <td>236540.0</td>\n",
       "      <td>327.645169</td>\n",
       "      <td>550.796112</td>\n",
       "      <td>223.150943</td>\n",
       "    </tr>\n",
       "    <tr>\n",
       "      <th>3</th>\n",
       "      <td>EAST</td>\n",
       "      <td>24 PRAGANA NORTH</td>\n",
       "      <td>7001073</td>\n",
       "      <td>35.50</td>\n",
       "      <td>02'23</td>\n",
       "      <td>Titanium</td>\n",
       "      <td>269.00</td>\n",
       "      <td>5180</td>\n",
       "      <td>157584.383333</td>\n",
       "      <td>3.404584e+05</td>\n",
       "      <td>182874.0</td>\n",
       "      <td>221.949836</td>\n",
       "      <td>479.518850</td>\n",
       "      <td>257.569014</td>\n",
       "    </tr>\n",
       "    <tr>\n",
       "      <th>4</th>\n",
       "      <td>EAST</td>\n",
       "      <td>24 PRAGANA NORTH</td>\n",
       "      <td>7001909</td>\n",
       "      <td>124.50</td>\n",
       "      <td>02'23</td>\n",
       "      <td>Titanium</td>\n",
       "      <td>269.00</td>\n",
       "      <td>6957</td>\n",
       "      <td>829819.385467</td>\n",
       "      <td>1.534209e+06</td>\n",
       "      <td>704390.0</td>\n",
       "      <td>333.260797</td>\n",
       "      <td>616.148348</td>\n",
       "      <td>282.887550</td>\n",
       "    </tr>\n",
       "  </tbody>\n",
       "</table>\n",
       "</div>"
      ],
      "text/plain": [
       "  Sales_Region          District  Dealer_ID  Bill_Qty_Monthly  Month  \\\n",
       "0         EAST  24 PRAGANA NORTH    7001073             50.25  07'22   \n",
       "1         EAST  24 PRAGANA NORTH    7001113             38.00  10'22   \n",
       "2         EAST  24 PRAGANA NORTH    7037681             53.00  12'22   \n",
       "3         EAST  24 PRAGANA NORTH    7001073             35.50  02'23   \n",
       "4         EAST  24 PRAGANA NORTH    7001909            124.50  02'23   \n",
       "\n",
       "  Dealer_Level  Total_Bill_Qty_Monthly  Unnamed: 0.1       Discount  \\\n",
       "0     Titanium                  229.75          5185  283752.173800   \n",
       "1     Titanium                  151.85          5278  457510.833333   \n",
       "2     Titanium                  247.25         48167  347303.879167   \n",
       "3     Titanium                  269.00          5180  157584.383333   \n",
       "4     Titanium                  269.00          6957  829819.385467   \n",
       "\n",
       "   Total_Discount  Price_Support  Discount/Bag  Total_Discount/Bag  \\\n",
       "0    4.351388e+05       151386.6    282.340471          432.973904   \n",
       "1    4.575108e+05            0.0    601.987939          601.987939   \n",
       "2    5.838439e+05       236540.0    327.645169          550.796112   \n",
       "3    3.404584e+05       182874.0    221.949836          479.518850   \n",
       "4    1.534209e+06       704390.0    333.260797          616.148348   \n",
       "\n",
       "   Price_Support/Bag  \n",
       "0         150.633433  \n",
       "1           0.000000  \n",
       "2         223.150943  \n",
       "3         257.569014  \n",
       "4         282.887550  "
      ]
     },
     "execution_count": 108,
     "metadata": {},
     "output_type": "execute_result"
    }
   ],
   "source": [
    "dis_m.head()"
   ]
  },
  {
   "cell_type": "code",
   "execution_count": 109,
   "id": "31f73ee5-24eb-4c06-84e5-901e223d5995",
   "metadata": {
    "tags": []
   },
   "outputs": [
    {
     "data": {
      "text/plain": [
       "array([86.5, 23.3, 98.5,  7.5])"
      ]
     },
     "execution_count": 109,
     "metadata": {},
     "output_type": "execute_result"
    }
   ],
   "source": [
    "dis_m[(dis_m['District'] == 'BALASORE') & (dis_m['Month'] == \"11'22\")]['Total_Bill_Qty_Monthly'].unique()"
   ]
  },
  {
   "cell_type": "code",
   "execution_count": 110,
   "id": "eda537d2-0f25-4e90-89e6-c2f572387639",
   "metadata": {
    "tags": []
   },
   "outputs": [
    {
     "data": {
      "text/html": [
       "<div>\n",
       "<style scoped>\n",
       "    .dataframe tbody tr th:only-of-type {\n",
       "        vertical-align: middle;\n",
       "    }\n",
       "\n",
       "    .dataframe tbody tr th {\n",
       "        vertical-align: top;\n",
       "    }\n",
       "\n",
       "    .dataframe thead th {\n",
       "        text-align: right;\n",
       "    }\n",
       "</style>\n",
       "<table border=\"1\" class=\"dataframe\">\n",
       "  <thead>\n",
       "    <tr style=\"text-align: right;\">\n",
       "      <th></th>\n",
       "      <th>State</th>\n",
       "      <th>District</th>\n",
       "      <th>Date</th>\n",
       "      <th>Bill_Price</th>\n",
       "      <th>Total_PD</th>\n",
       "      <th>Dist_WSP</th>\n",
       "      <th>C-Dist_WSP</th>\n",
       "      <th>CD+QD</th>\n",
       "      <th>DF</th>\n",
       "      <th>CD+QD+DF</th>\n",
       "      <th>Month</th>\n",
       "    </tr>\n",
       "  </thead>\n",
       "  <tbody>\n",
       "    <tr>\n",
       "      <th>0</th>\n",
       "      <td>West Bengal</td>\n",
       "      <td>MURSHIDABAD</td>\n",
       "      <td>2022-11-14</td>\n",
       "      <td>385.0</td>\n",
       "      <td>0.0</td>\n",
       "      <td>345.0</td>\n",
       "      <td>345.0</td>\n",
       "      <td>0.0</td>\n",
       "      <td>10.0</td>\n",
       "      <td>10</td>\n",
       "      <td>11'22</td>\n",
       "    </tr>\n",
       "    <tr>\n",
       "      <th>1</th>\n",
       "      <td>Bihar</td>\n",
       "      <td>LAKHISARAI</td>\n",
       "      <td>2023-01-16</td>\n",
       "      <td>422.0</td>\n",
       "      <td>27.0</td>\n",
       "      <td>372.5</td>\n",
       "      <td>372.5</td>\n",
       "      <td>4.0</td>\n",
       "      <td>6.0</td>\n",
       "      <td>10</td>\n",
       "      <td>01'23</td>\n",
       "    </tr>\n",
       "    <tr>\n",
       "      <th>2</th>\n",
       "      <td>OD</td>\n",
       "      <td>PURI</td>\n",
       "      <td>2022-09-18</td>\n",
       "      <td>360.0</td>\n",
       "      <td>5.0</td>\n",
       "      <td>315.0</td>\n",
       "      <td>315.0</td>\n",
       "      <td>4.5</td>\n",
       "      <td>5.5</td>\n",
       "      <td>10</td>\n",
       "      <td>09'22</td>\n",
       "    </tr>\n",
       "    <tr>\n",
       "      <th>3</th>\n",
       "      <td>Bihar</td>\n",
       "      <td>BUXAR</td>\n",
       "      <td>2022-11-18</td>\n",
       "      <td>419.0</td>\n",
       "      <td>35.0</td>\n",
       "      <td>362.5</td>\n",
       "      <td>NaN</td>\n",
       "      <td>4.0</td>\n",
       "      <td>6.0</td>\n",
       "      <td>10</td>\n",
       "      <td>11'22</td>\n",
       "    </tr>\n",
       "    <tr>\n",
       "      <th>4</th>\n",
       "      <td>OD</td>\n",
       "      <td>DEOGARH</td>\n",
       "      <td>2022-11-12</td>\n",
       "      <td>345.0</td>\n",
       "      <td>15.0</td>\n",
       "      <td>315.0</td>\n",
       "      <td>310.0</td>\n",
       "      <td>4.5</td>\n",
       "      <td>5.5</td>\n",
       "      <td>10</td>\n",
       "      <td>11'22</td>\n",
       "    </tr>\n",
       "  </tbody>\n",
       "</table>\n",
       "</div>"
      ],
      "text/plain": [
       "         State     District       Date  Bill_Price  Total_PD  Dist_WSP  \\\n",
       "0  West Bengal  MURSHIDABAD 2022-11-14       385.0       0.0     345.0   \n",
       "1        Bihar   LAKHISARAI 2023-01-16       422.0      27.0     372.5   \n",
       "2           OD         PURI 2022-09-18       360.0       5.0     315.0   \n",
       "3        Bihar        BUXAR 2022-11-18       419.0      35.0     362.5   \n",
       "4           OD      DEOGARH 2022-11-12       345.0      15.0     315.0   \n",
       "\n",
       "   C-Dist_WSP  CD+QD    DF  CD+QD+DF  Month  \n",
       "0       345.0    0.0  10.0        10  11'22  \n",
       "1       372.5    4.0   6.0        10  01'23  \n",
       "2       315.0    4.5   5.5        10  09'22  \n",
       "3         NaN    4.0   6.0        10  11'22  \n",
       "4       310.0    4.5   5.5        10  11'22  "
      ]
     },
     "execution_count": 110,
     "metadata": {},
     "output_type": "execute_result"
    }
   ],
   "source": [
    "pd_wsp.head()"
   ]
  },
  {
   "cell_type": "code",
   "execution_count": 111,
   "id": "bc033fd2-032a-4ba0-9e0b-324b0298ed1e",
   "metadata": {
    "tags": []
   },
   "outputs": [
    {
     "data": {
      "text/html": [
       "<div>\n",
       "<style scoped>\n",
       "    .dataframe tbody tr th:only-of-type {\n",
       "        vertical-align: middle;\n",
       "    }\n",
       "\n",
       "    .dataframe tbody tr th {\n",
       "        vertical-align: top;\n",
       "    }\n",
       "\n",
       "    .dataframe thead th {\n",
       "        text-align: right;\n",
       "    }\n",
       "</style>\n",
       "<table border=\"1\" class=\"dataframe\">\n",
       "  <thead>\n",
       "    <tr style=\"text-align: right;\">\n",
       "      <th></th>\n",
       "      <th>ASO_ID</th>\n",
       "      <th>Dealer_ID</th>\n",
       "      <th>Date</th>\n",
       "      <th>ASO_WSP</th>\n",
       "      <th>Month</th>\n",
       "    </tr>\n",
       "  </thead>\n",
       "  <tbody>\n",
       "    <tr>\n",
       "      <th>0</th>\n",
       "      <td>EMP0000013</td>\n",
       "      <td>7015945</td>\n",
       "      <td>2022-04-20</td>\n",
       "      <td>415.0</td>\n",
       "      <td>04'22</td>\n",
       "    </tr>\n",
       "    <tr>\n",
       "      <th>1</th>\n",
       "      <td>EMP0000013</td>\n",
       "      <td>7015945</td>\n",
       "      <td>2022-07-28</td>\n",
       "      <td>375.0</td>\n",
       "      <td>07'22</td>\n",
       "    </tr>\n",
       "    <tr>\n",
       "      <th>2</th>\n",
       "      <td>EMP0000013</td>\n",
       "      <td>7016493</td>\n",
       "      <td>2022-10-06</td>\n",
       "      <td>400.0</td>\n",
       "      <td>10'22</td>\n",
       "    </tr>\n",
       "    <tr>\n",
       "      <th>3</th>\n",
       "      <td>EMP0000013</td>\n",
       "      <td>7016726</td>\n",
       "      <td>2022-08-17</td>\n",
       "      <td>370.0</td>\n",
       "      <td>08'22</td>\n",
       "    </tr>\n",
       "    <tr>\n",
       "      <th>4</th>\n",
       "      <td>EMP0000013</td>\n",
       "      <td>7016957</td>\n",
       "      <td>2022-10-18</td>\n",
       "      <td>400.0</td>\n",
       "      <td>10'22</td>\n",
       "    </tr>\n",
       "  </tbody>\n",
       "</table>\n",
       "</div>"
      ],
      "text/plain": [
       "       ASO_ID  Dealer_ID       Date  ASO_WSP  Month\n",
       "0  EMP0000013    7015945 2022-04-20    415.0  04'22\n",
       "1  EMP0000013    7015945 2022-07-28    375.0  07'22\n",
       "2  EMP0000013    7016493 2022-10-06    400.0  10'22\n",
       "3  EMP0000013    7016726 2022-08-17    370.0  08'22\n",
       "4  EMP0000013    7016957 2022-10-18    400.0  10'22"
      ]
     },
     "execution_count": 111,
     "metadata": {},
     "output_type": "execute_result"
    }
   ],
   "source": [
    "pjp_aso1.head()"
   ]
  },
  {
   "cell_type": "code",
   "execution_count": 112,
   "id": "6150d9e3-174e-4d99-9088-23d02853602c",
   "metadata": {
    "tags": []
   },
   "outputs": [],
   "source": [
    "dis_m_pj = pd.merge(dis_m,pjp_aso1, how='inner',left_on=['Month', 'Dealer_ID'],right_on=['Month', 'Dealer_ID'])"
   ]
  },
  {
   "cell_type": "code",
   "execution_count": 113,
   "id": "b3a4d773-787d-4c8b-94ba-84cf1f0762a9",
   "metadata": {
    "tags": []
   },
   "outputs": [
    {
     "data": {
      "text/html": [
       "<div>\n",
       "<style scoped>\n",
       "    .dataframe tbody tr th:only-of-type {\n",
       "        vertical-align: middle;\n",
       "    }\n",
       "\n",
       "    .dataframe tbody tr th {\n",
       "        vertical-align: top;\n",
       "    }\n",
       "\n",
       "    .dataframe thead th {\n",
       "        text-align: right;\n",
       "    }\n",
       "</style>\n",
       "<table border=\"1\" class=\"dataframe\">\n",
       "  <thead>\n",
       "    <tr style=\"text-align: right;\">\n",
       "      <th></th>\n",
       "      <th>Sales_Region</th>\n",
       "      <th>District</th>\n",
       "      <th>Dealer_ID</th>\n",
       "      <th>Bill_Qty_Monthly</th>\n",
       "      <th>Month</th>\n",
       "      <th>Dealer_Level</th>\n",
       "      <th>Total_Bill_Qty_Monthly</th>\n",
       "      <th>Unnamed: 0.1</th>\n",
       "      <th>Discount</th>\n",
       "      <th>Total_Discount</th>\n",
       "      <th>Price_Support</th>\n",
       "      <th>Discount/Bag</th>\n",
       "      <th>Total_Discount/Bag</th>\n",
       "      <th>Price_Support/Bag</th>\n",
       "      <th>ASO_ID</th>\n",
       "      <th>Date</th>\n",
       "      <th>ASO_WSP</th>\n",
       "    </tr>\n",
       "  </thead>\n",
       "  <tbody>\n",
       "    <tr>\n",
       "      <th>0</th>\n",
       "      <td>EAST</td>\n",
       "      <td>24 PRAGANA NORTH</td>\n",
       "      <td>7001073</td>\n",
       "      <td>50.25</td>\n",
       "      <td>07'22</td>\n",
       "      <td>Titanium</td>\n",
       "      <td>229.75</td>\n",
       "      <td>5185</td>\n",
       "      <td>283752.173800</td>\n",
       "      <td>435138.773800</td>\n",
       "      <td>151386.60</td>\n",
       "      <td>282.340471</td>\n",
       "      <td>432.973904</td>\n",
       "      <td>150.633433</td>\n",
       "      <td>EMP1028535</td>\n",
       "      <td>2022-07-13</td>\n",
       "      <td>320.0</td>\n",
       "    </tr>\n",
       "    <tr>\n",
       "      <th>1</th>\n",
       "      <td>EAST</td>\n",
       "      <td>KOLKATA</td>\n",
       "      <td>7001073</td>\n",
       "      <td>31.00</td>\n",
       "      <td>03'23</td>\n",
       "      <td>Titanium</td>\n",
       "      <td>685.50</td>\n",
       "      <td>5181</td>\n",
       "      <td>184783.277133</td>\n",
       "      <td>327912.277133</td>\n",
       "      <td>143129.00</td>\n",
       "      <td>298.037544</td>\n",
       "      <td>528.890770</td>\n",
       "      <td>230.853226</td>\n",
       "      <td>EMP1028535</td>\n",
       "      <td>2023-03-06</td>\n",
       "      <td>345.0</td>\n",
       "    </tr>\n",
       "    <tr>\n",
       "      <th>2</th>\n",
       "      <td>EAST</td>\n",
       "      <td>24 PRAGANA NORTH</td>\n",
       "      <td>7009101</td>\n",
       "      <td>19.00</td>\n",
       "      <td>12'22</td>\n",
       "      <td>Gold</td>\n",
       "      <td>141.00</td>\n",
       "      <td>12147</td>\n",
       "      <td>145256.606667</td>\n",
       "      <td>243779.606667</td>\n",
       "      <td>98523.00</td>\n",
       "      <td>382.254228</td>\n",
       "      <td>641.525281</td>\n",
       "      <td>259.271053</td>\n",
       "      <td>EMP1028535</td>\n",
       "      <td>2022-12-12</td>\n",
       "      <td>365.0</td>\n",
       "    </tr>\n",
       "    <tr>\n",
       "      <th>3</th>\n",
       "      <td>EAST</td>\n",
       "      <td>24 PRAGANA NORTH</td>\n",
       "      <td>7028347</td>\n",
       "      <td>2.50</td>\n",
       "      <td>07'22</td>\n",
       "      <td>Bronze</td>\n",
       "      <td>30.50</td>\n",
       "      <td>27267</td>\n",
       "      <td>12696.894400</td>\n",
       "      <td>31954.634400</td>\n",
       "      <td>19257.74</td>\n",
       "      <td>253.937888</td>\n",
       "      <td>639.092688</td>\n",
       "      <td>385.154800</td>\n",
       "      <td>EMP1030472</td>\n",
       "      <td>2022-07-25</td>\n",
       "      <td>315.0</td>\n",
       "    </tr>\n",
       "    <tr>\n",
       "      <th>4</th>\n",
       "      <td>EAST</td>\n",
       "      <td>24 PRAGANA NORTH</td>\n",
       "      <td>7029345</td>\n",
       "      <td>15.00</td>\n",
       "      <td>07'22</td>\n",
       "      <td>Silver</td>\n",
       "      <td>192.50</td>\n",
       "      <td>28893</td>\n",
       "      <td>65818.520833</td>\n",
       "      <td>99505.940833</td>\n",
       "      <td>33687.42</td>\n",
       "      <td>219.395069</td>\n",
       "      <td>331.686469</td>\n",
       "      <td>112.291400</td>\n",
       "      <td>EMP0010062</td>\n",
       "      <td>2022-07-07</td>\n",
       "      <td>320.0</td>\n",
       "    </tr>\n",
       "  </tbody>\n",
       "</table>\n",
       "</div>"
      ],
      "text/plain": [
       "  Sales_Region          District  Dealer_ID  Bill_Qty_Monthly  Month  \\\n",
       "0         EAST  24 PRAGANA NORTH    7001073             50.25  07'22   \n",
       "1         EAST           KOLKATA    7001073             31.00  03'23   \n",
       "2         EAST  24 PRAGANA NORTH    7009101             19.00  12'22   \n",
       "3         EAST  24 PRAGANA NORTH    7028347              2.50  07'22   \n",
       "4         EAST  24 PRAGANA NORTH    7029345             15.00  07'22   \n",
       "\n",
       "  Dealer_Level  Total_Bill_Qty_Monthly  Unnamed: 0.1       Discount  \\\n",
       "0     Titanium                  229.75          5185  283752.173800   \n",
       "1     Titanium                  685.50          5181  184783.277133   \n",
       "2         Gold                  141.00         12147  145256.606667   \n",
       "3       Bronze                   30.50         27267   12696.894400   \n",
       "4       Silver                  192.50         28893   65818.520833   \n",
       "\n",
       "   Total_Discount  Price_Support  Discount/Bag  Total_Discount/Bag  \\\n",
       "0   435138.773800      151386.60    282.340471          432.973904   \n",
       "1   327912.277133      143129.00    298.037544          528.890770   \n",
       "2   243779.606667       98523.00    382.254228          641.525281   \n",
       "3    31954.634400       19257.74    253.937888          639.092688   \n",
       "4    99505.940833       33687.42    219.395069          331.686469   \n",
       "\n",
       "   Price_Support/Bag      ASO_ID       Date  ASO_WSP  \n",
       "0         150.633433  EMP1028535 2022-07-13    320.0  \n",
       "1         230.853226  EMP1028535 2023-03-06    345.0  \n",
       "2         259.271053  EMP1028535 2022-12-12    365.0  \n",
       "3         385.154800  EMP1030472 2022-07-25    315.0  \n",
       "4         112.291400  EMP0010062 2022-07-07    320.0  "
      ]
     },
     "execution_count": 113,
     "metadata": {},
     "output_type": "execute_result"
    }
   ],
   "source": [
    "dis_m_pj.head()"
   ]
  },
  {
   "cell_type": "code",
   "execution_count": 114,
   "id": "7228b6e0-11bf-455f-a66e-9476ccaecbd7",
   "metadata": {
    "tags": []
   },
   "outputs": [
    {
     "data": {
      "text/html": [
       "<div>\n",
       "<style scoped>\n",
       "    .dataframe tbody tr th:only-of-type {\n",
       "        vertical-align: middle;\n",
       "    }\n",
       "\n",
       "    .dataframe tbody tr th {\n",
       "        vertical-align: top;\n",
       "    }\n",
       "\n",
       "    .dataframe thead th {\n",
       "        text-align: right;\n",
       "    }\n",
       "</style>\n",
       "<table border=\"1\" class=\"dataframe\">\n",
       "  <thead>\n",
       "    <tr style=\"text-align: right;\">\n",
       "      <th></th>\n",
       "      <th>Sales_Region</th>\n",
       "      <th>District</th>\n",
       "      <th>Dealer_ID</th>\n",
       "      <th>Bill_Qty_Monthly</th>\n",
       "      <th>Month</th>\n",
       "      <th>Dealer_Level</th>\n",
       "      <th>Total_Bill_Qty_Monthly</th>\n",
       "      <th>Unnamed: 0.1</th>\n",
       "      <th>Discount</th>\n",
       "      <th>Total_Discount</th>\n",
       "      <th>Price_Support</th>\n",
       "      <th>Discount/Bag</th>\n",
       "      <th>Total_Discount/Bag</th>\n",
       "      <th>Price_Support/Bag</th>\n",
       "      <th>ASO_ID</th>\n",
       "      <th>Date</th>\n",
       "      <th>ASO_WSP</th>\n",
       "    </tr>\n",
       "  </thead>\n",
       "  <tbody>\n",
       "  </tbody>\n",
       "</table>\n",
       "</div>"
      ],
      "text/plain": [
       "Empty DataFrame\n",
       "Columns: [Sales_Region, District, Dealer_ID, Bill_Qty_Monthly, Month, Dealer_Level, Total_Bill_Qty_Monthly, Unnamed: 0.1, Discount, Total_Discount, Price_Support, Discount/Bag, Total_Discount/Bag, Price_Support/Bag, ASO_ID, Date, ASO_WSP]\n",
       "Index: []"
      ]
     },
     "execution_count": 114,
     "metadata": {},
     "output_type": "execute_result"
    }
   ],
   "source": [
    "subset_columns = ['Sales_Region', 'District', 'Dealer_ID','ASO_ID','Month','Date']\n",
    "duplicates = dis_m_pj.duplicated(subset=subset_columns, keep=False)\n",
    "dis_m_pj[duplicates]"
   ]
  },
  {
   "cell_type": "code",
   "execution_count": 115,
   "id": "63ffe69a-c761-4398-94c4-c31b2f70e49b",
   "metadata": {
    "tags": []
   },
   "outputs": [],
   "source": [
    "# dis_m_pj.drop_duplicates(inplace=True)"
   ]
  },
  {
   "cell_type": "code",
   "execution_count": 116,
   "id": "eb2cb8b9-68b6-4277-9f30-6f5eb79c0a04",
   "metadata": {
    "tags": []
   },
   "outputs": [
    {
     "data": {
      "text/html": [
       "<div>\n",
       "<style scoped>\n",
       "    .dataframe tbody tr th:only-of-type {\n",
       "        vertical-align: middle;\n",
       "    }\n",
       "\n",
       "    .dataframe tbody tr th {\n",
       "        vertical-align: top;\n",
       "    }\n",
       "\n",
       "    .dataframe thead th {\n",
       "        text-align: right;\n",
       "    }\n",
       "</style>\n",
       "<table border=\"1\" class=\"dataframe\">\n",
       "  <thead>\n",
       "    <tr style=\"text-align: right;\">\n",
       "      <th></th>\n",
       "      <th>State</th>\n",
       "      <th>District</th>\n",
       "      <th>Date</th>\n",
       "      <th>Bill_Price</th>\n",
       "      <th>Total_PD</th>\n",
       "      <th>Dist_WSP</th>\n",
       "      <th>C-Dist_WSP</th>\n",
       "      <th>CD+QD</th>\n",
       "      <th>DF</th>\n",
       "      <th>CD+QD+DF</th>\n",
       "      <th>Month</th>\n",
       "    </tr>\n",
       "  </thead>\n",
       "  <tbody>\n",
       "  </tbody>\n",
       "</table>\n",
       "</div>"
      ],
      "text/plain": [
       "Empty DataFrame\n",
       "Columns: [State, District, Date, Bill_Price, Total_PD, Dist_WSP, C-Dist_WSP, CD+QD, DF, CD+QD+DF, Month]\n",
       "Index: []"
      ]
     },
     "execution_count": 116,
     "metadata": {},
     "output_type": "execute_result"
    }
   ],
   "source": [
    "subset_columns = ['State','District', 'Month','Date']\n",
    "duplicates = pd_wsp.duplicated(subset=subset_columns, keep=False)\n",
    "pd_wsp[duplicates]"
   ]
  },
  {
   "cell_type": "code",
   "execution_count": 117,
   "id": "c4c1d755-1c9f-4dae-a7b1-f95bbdb16deb",
   "metadata": {
    "tags": []
   },
   "outputs": [],
   "source": [
    "pd_wsp = pd_wsp.drop_duplicates(subset=subset_columns, keep='last')"
   ]
  },
  {
   "cell_type": "code",
   "execution_count": 118,
   "id": "57e0bd44-c9ad-434d-bd9a-aa2c993be1e3",
   "metadata": {
    "tags": []
   },
   "outputs": [
    {
     "data": {
      "text/plain": [
       "array(['EAST'], dtype=object)"
      ]
     },
     "execution_count": 118,
     "metadata": {},
     "output_type": "execute_result"
    }
   ],
   "source": [
    "dis_m_pj['Sales_Region'].unique()"
   ]
  },
  {
   "cell_type": "code",
   "execution_count": 119,
   "id": "fe22de20-d716-42d5-a45b-10cba68700c7",
   "metadata": {
    "tags": []
   },
   "outputs": [
    {
     "data": {
      "text/plain": [
       "EAST    351\n",
       "Name: Sales_Region, dtype: int64"
      ]
     },
     "execution_count": 119,
     "metadata": {},
     "output_type": "execute_result"
    }
   ],
   "source": [
    "dis_m_pj['Sales_Region'].value_counts()"
   ]
  },
  {
   "cell_type": "code",
   "execution_count": 120,
   "id": "ede2ed83-dd2c-435c-98c6-9a5a3c169285",
   "metadata": {
    "tags": []
   },
   "outputs": [],
   "source": [
    "pd_wsp.drop_duplicates(inplace=True)"
   ]
  },
  {
   "cell_type": "code",
   "execution_count": 121,
   "id": "d3579e28-71b6-495c-bfec-7669fa10f5d7",
   "metadata": {
    "tags": []
   },
   "outputs": [],
   "source": [
    "fin = pd.merge(dis_m_pj,pd_wsp, how='inner',left_on=['District', 'Month', 'Date'],right_on=['District', 'Month', 'Date'])"
   ]
  },
  {
   "cell_type": "code",
   "execution_count": 122,
   "id": "cb3b8eab-54a0-4279-9558-1d2556a37042",
   "metadata": {
    "tags": []
   },
   "outputs": [
    {
     "data": {
      "text/html": [
       "<div>\n",
       "<style scoped>\n",
       "    .dataframe tbody tr th:only-of-type {\n",
       "        vertical-align: middle;\n",
       "    }\n",
       "\n",
       "    .dataframe tbody tr th {\n",
       "        vertical-align: top;\n",
       "    }\n",
       "\n",
       "    .dataframe thead th {\n",
       "        text-align: right;\n",
       "    }\n",
       "</style>\n",
       "<table border=\"1\" class=\"dataframe\">\n",
       "  <thead>\n",
       "    <tr style=\"text-align: right;\">\n",
       "      <th></th>\n",
       "      <th>Sales_Region</th>\n",
       "      <th>District</th>\n",
       "      <th>Dealer_ID</th>\n",
       "      <th>Bill_Qty_Monthly</th>\n",
       "      <th>Month</th>\n",
       "      <th>Dealer_Level</th>\n",
       "      <th>Total_Bill_Qty_Monthly</th>\n",
       "      <th>Unnamed: 0.1</th>\n",
       "      <th>Discount</th>\n",
       "      <th>Total_Discount</th>\n",
       "      <th>...</th>\n",
       "      <th>Date</th>\n",
       "      <th>ASO_WSP</th>\n",
       "      <th>State</th>\n",
       "      <th>Bill_Price</th>\n",
       "      <th>Total_PD</th>\n",
       "      <th>Dist_WSP</th>\n",
       "      <th>C-Dist_WSP</th>\n",
       "      <th>CD+QD</th>\n",
       "      <th>DF</th>\n",
       "      <th>CD+QD+DF</th>\n",
       "    </tr>\n",
       "  </thead>\n",
       "  <tbody>\n",
       "    <tr>\n",
       "      <th>0</th>\n",
       "      <td>EAST</td>\n",
       "      <td>KOLKATA</td>\n",
       "      <td>7001073</td>\n",
       "      <td>31.00</td>\n",
       "      <td>03'23</td>\n",
       "      <td>Titanium</td>\n",
       "      <td>685.50</td>\n",
       "      <td>5181</td>\n",
       "      <td>184783.277133</td>\n",
       "      <td>327912.277133</td>\n",
       "      <td>...</td>\n",
       "      <td>2023-03-06</td>\n",
       "      <td>345.0</td>\n",
       "      <td>West Bengal</td>\n",
       "      <td>385.0</td>\n",
       "      <td>15.0000</td>\n",
       "      <td>353.0</td>\n",
       "      <td>358.0</td>\n",
       "      <td>5.0</td>\n",
       "      <td>5.0</td>\n",
       "      <td>10</td>\n",
       "    </tr>\n",
       "    <tr>\n",
       "      <th>1</th>\n",
       "      <td>EAST</td>\n",
       "      <td>24 PRAGANA NORTH</td>\n",
       "      <td>7014916</td>\n",
       "      <td>10.00</td>\n",
       "      <td>01'23</td>\n",
       "      <td>Silver</td>\n",
       "      <td>110.40</td>\n",
       "      <td>17507</td>\n",
       "      <td>66305.208333</td>\n",
       "      <td>112322.208333</td>\n",
       "      <td>...</td>\n",
       "      <td>2023-01-17</td>\n",
       "      <td>380.0</td>\n",
       "      <td>West Bengal</td>\n",
       "      <td>400.0</td>\n",
       "      <td>25.0000</td>\n",
       "      <td>368.0</td>\n",
       "      <td>375.0</td>\n",
       "      <td>5.0</td>\n",
       "      <td>5.0</td>\n",
       "      <td>10</td>\n",
       "    </tr>\n",
       "    <tr>\n",
       "      <th>2</th>\n",
       "      <td>EAST</td>\n",
       "      <td>24 PRAGANA SOUTH</td>\n",
       "      <td>7001123</td>\n",
       "      <td>46.00</td>\n",
       "      <td>03'23</td>\n",
       "      <td>Platinum</td>\n",
       "      <td>408.15</td>\n",
       "      <td>5307</td>\n",
       "      <td>160099.881900</td>\n",
       "      <td>307603.881900</td>\n",
       "      <td>...</td>\n",
       "      <td>2023-03-22</td>\n",
       "      <td>360.0</td>\n",
       "      <td>West Bengal</td>\n",
       "      <td>380.0</td>\n",
       "      <td>5.0000</td>\n",
       "      <td>350.0</td>\n",
       "      <td>355.0</td>\n",
       "      <td>5.0</td>\n",
       "      <td>5.0</td>\n",
       "      <td>10</td>\n",
       "    </tr>\n",
       "    <tr>\n",
       "      <th>3</th>\n",
       "      <td>EAST</td>\n",
       "      <td>ANGUL</td>\n",
       "      <td>7015045</td>\n",
       "      <td>27.00</td>\n",
       "      <td>12'22</td>\n",
       "      <td>Gold</td>\n",
       "      <td>162.45</td>\n",
       "      <td>17644</td>\n",
       "      <td>157742.679400</td>\n",
       "      <td>188137.679400</td>\n",
       "      <td>...</td>\n",
       "      <td>2022-12-08</td>\n",
       "      <td>330.0</td>\n",
       "      <td>OD</td>\n",
       "      <td>360.0</td>\n",
       "      <td>20.0000</td>\n",
       "      <td>330.0</td>\n",
       "      <td>330.0</td>\n",
       "      <td>4.5</td>\n",
       "      <td>5.5</td>\n",
       "      <td>10</td>\n",
       "    </tr>\n",
       "    <tr>\n",
       "      <th>4</th>\n",
       "      <td>EAST</td>\n",
       "      <td>BALASORE</td>\n",
       "      <td>7028007</td>\n",
       "      <td>56.25</td>\n",
       "      <td>12'22</td>\n",
       "      <td>Titanium</td>\n",
       "      <td>445.30</td>\n",
       "      <td>26669</td>\n",
       "      <td>361101.067727</td>\n",
       "      <td>454888.067727</td>\n",
       "      <td>...</td>\n",
       "      <td>2022-12-22</td>\n",
       "      <td>325.0</td>\n",
       "      <td>OD</td>\n",
       "      <td>340.0</td>\n",
       "      <td>0.2094</td>\n",
       "      <td>320.0</td>\n",
       "      <td>325.0</td>\n",
       "      <td>4.5</td>\n",
       "      <td>5.5</td>\n",
       "      <td>10</td>\n",
       "    </tr>\n",
       "  </tbody>\n",
       "</table>\n",
       "<p>5 rows × 25 columns</p>\n",
       "</div>"
      ],
      "text/plain": [
       "  Sales_Region          District  Dealer_ID  Bill_Qty_Monthly  Month  \\\n",
       "0         EAST           KOLKATA    7001073             31.00  03'23   \n",
       "1         EAST  24 PRAGANA NORTH    7014916             10.00  01'23   \n",
       "2         EAST  24 PRAGANA SOUTH    7001123             46.00  03'23   \n",
       "3         EAST             ANGUL    7015045             27.00  12'22   \n",
       "4         EAST          BALASORE    7028007             56.25  12'22   \n",
       "\n",
       "  Dealer_Level  Total_Bill_Qty_Monthly  Unnamed: 0.1       Discount  \\\n",
       "0     Titanium                  685.50          5181  184783.277133   \n",
       "1       Silver                  110.40         17507   66305.208333   \n",
       "2     Platinum                  408.15          5307  160099.881900   \n",
       "3         Gold                  162.45         17644  157742.679400   \n",
       "4     Titanium                  445.30         26669  361101.067727   \n",
       "\n",
       "   Total_Discount  ...       Date  ASO_WSP        State  Bill_Price Total_PD  \\\n",
       "0   327912.277133  ... 2023-03-06    345.0  West Bengal       385.0  15.0000   \n",
       "1   112322.208333  ... 2023-01-17    380.0  West Bengal       400.0  25.0000   \n",
       "2   307603.881900  ... 2023-03-22    360.0  West Bengal       380.0   5.0000   \n",
       "3   188137.679400  ... 2022-12-08    330.0           OD       360.0  20.0000   \n",
       "4   454888.067727  ... 2022-12-22    325.0           OD       340.0   0.2094   \n",
       "\n",
       "  Dist_WSP  C-Dist_WSP CD+QD   DF  CD+QD+DF  \n",
       "0    353.0       358.0   5.0  5.0        10  \n",
       "1    368.0       375.0   5.0  5.0        10  \n",
       "2    350.0       355.0   5.0  5.0        10  \n",
       "3    330.0       330.0   4.5  5.5        10  \n",
       "4    320.0       325.0   4.5  5.5        10  \n",
       "\n",
       "[5 rows x 25 columns]"
      ]
     },
     "execution_count": 122,
     "metadata": {},
     "output_type": "execute_result"
    }
   ],
   "source": [
    "fin.head()"
   ]
  },
  {
   "cell_type": "code",
   "execution_count": 123,
   "id": "9f5eeffb-8b2d-4d44-a845-8c2094945304",
   "metadata": {
    "tags": []
   },
   "outputs": [
    {
     "data": {
      "text/html": [
       "<div>\n",
       "<style scoped>\n",
       "    .dataframe tbody tr th:only-of-type {\n",
       "        vertical-align: middle;\n",
       "    }\n",
       "\n",
       "    .dataframe tbody tr th {\n",
       "        vertical-align: top;\n",
       "    }\n",
       "\n",
       "    .dataframe thead th {\n",
       "        text-align: right;\n",
       "    }\n",
       "</style>\n",
       "<table border=\"1\" class=\"dataframe\">\n",
       "  <thead>\n",
       "    <tr style=\"text-align: right;\">\n",
       "      <th></th>\n",
       "      <th>Sales_Region</th>\n",
       "      <th>District</th>\n",
       "      <th>Dealer_ID</th>\n",
       "      <th>Bill_Qty_Monthly</th>\n",
       "      <th>Month</th>\n",
       "      <th>Dealer_Level</th>\n",
       "      <th>Total_Bill_Qty_Monthly</th>\n",
       "      <th>Unnamed: 0.1</th>\n",
       "      <th>Discount</th>\n",
       "      <th>Total_Discount</th>\n",
       "      <th>...</th>\n",
       "      <th>Date</th>\n",
       "      <th>ASO_WSP</th>\n",
       "      <th>State</th>\n",
       "      <th>Bill_Price</th>\n",
       "      <th>Total_PD</th>\n",
       "      <th>Dist_WSP</th>\n",
       "      <th>C-Dist_WSP</th>\n",
       "      <th>CD+QD</th>\n",
       "      <th>DF</th>\n",
       "      <th>CD+QD+DF</th>\n",
       "    </tr>\n",
       "  </thead>\n",
       "  <tbody>\n",
       "  </tbody>\n",
       "</table>\n",
       "<p>0 rows × 25 columns</p>\n",
       "</div>"
      ],
      "text/plain": [
       "Empty DataFrame\n",
       "Columns: [Sales_Region, District, Dealer_ID, Bill_Qty_Monthly, Month, Dealer_Level, Total_Bill_Qty_Monthly, Unnamed: 0.1, Discount, Total_Discount, Price_Support, Discount/Bag, Total_Discount/Bag, Price_Support/Bag, ASO_ID, Date, ASO_WSP, State, Bill_Price, Total_PD, Dist_WSP, C-Dist_WSP, CD+QD, DF, CD+QD+DF]\n",
       "Index: []\n",
       "\n",
       "[0 rows x 25 columns]"
      ]
     },
     "execution_count": 123,
     "metadata": {},
     "output_type": "execute_result"
    }
   ],
   "source": [
    "subset_columns = ['Sales_Region','State', 'District', 'Dealer_ID','ASO_ID','Month','Date']\n",
    "duplicates = fin.duplicated(subset=subset_columns, keep=False)\n",
    "fin[duplicates]"
   ]
  },
  {
   "cell_type": "code",
   "execution_count": 124,
   "id": "c18e1815-b187-4c64-a14b-98f18b6eb25c",
   "metadata": {
    "tags": []
   },
   "outputs": [
    {
     "data": {
      "text/plain": [
       "array(['EAST'], dtype=object)"
      ]
     },
     "execution_count": 124,
     "metadata": {},
     "output_type": "execute_result"
    }
   ],
   "source": [
    "fin['Sales_Region'].unique()"
   ]
  },
  {
   "cell_type": "code",
   "execution_count": 125,
   "id": "8417d6fe-f0a9-435f-b872-4c296169510f",
   "metadata": {
    "tags": []
   },
   "outputs": [],
   "source": [
    "fin.to_excel(path1+'/'+'ASO_Details_East_Fin_1.xlsx')"
   ]
  }
 ],
 "metadata": {
  "kernelspec": {
   "display_name": "Python 3 (ipykernel)",
   "language": "python",
   "name": "python3"
  },
  "language_info": {
   "codemirror_mode": {
    "name": "ipython",
    "version": 3
   },
   "file_extension": ".py",
   "mimetype": "text/x-python",
   "name": "python",
   "nbconvert_exporter": "python",
   "pygments_lexer": "ipython3",
   "version": "3.10.9"
  }
 },
 "nbformat": 4,
 "nbformat_minor": 5
}
